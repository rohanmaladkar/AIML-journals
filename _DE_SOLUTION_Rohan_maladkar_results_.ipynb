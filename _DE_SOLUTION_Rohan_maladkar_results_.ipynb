{
  "nbformat": 4,
  "nbformat_minor": 0,
  "metadata": {
    "colab": {
      "provenance": [],
      "collapsed_sections": [],
      "mount_file_id": "1GsxhiB7bTEASTroG7RokfkdCIkPikLlu",
      "authorship_tag": "ABX9TyOa8PeaEJpfbfJg+l4eP4IR",
      "include_colab_link": true
    },
    "kernelspec": {
      "name": "python3",
      "display_name": "Python 3"
    },
    "language_info": {
      "name": "python"
    }
  },
  "cells": [
    {
      "cell_type": "markdown",
      "metadata": {
        "id": "view-in-github",
        "colab_type": "text"
      },
      "source": [
        "<a href=\"https://colab.research.google.com/github/rohanmaladkar/AIML-journals/blob/main/_DE_SOLUTION_Rohan_maladkar_results_.ipynb\" target=\"_parent\"><img src=\"https://colab.research.google.com/assets/colab-badge.svg\" alt=\"Open In Colab\"/></a>"
      ]
    },
    {
      "cell_type": "code",
      "source": [
        "!pip install pyspark"
      ],
      "metadata": {
        "colab": {
          "base_uri": "https://localhost:8080/"
        },
        "id": "38V61jKtbz1q",
        "outputId": "27231542-31f0-4c6a-877c-1f7b64d3b159"
      },
      "execution_count": 1,
      "outputs": [
        {
          "output_type": "stream",
          "name": "stdout",
          "text": [
            "Looking in indexes: https://pypi.org/simple, https://us-python.pkg.dev/colab-wheels/public/simple/\n",
            "Collecting pyspark\n",
            "  Downloading pyspark-3.3.0.tar.gz (281.3 MB)\n",
            "\u001b[K     |████████████████████████████████| 281.3 MB 31 kB/s \n",
            "\u001b[?25hCollecting py4j==0.10.9.5\n",
            "  Downloading py4j-0.10.9.5-py2.py3-none-any.whl (199 kB)\n",
            "\u001b[K     |████████████████████████████████| 199 kB 49.2 MB/s \n",
            "\u001b[?25hBuilding wheels for collected packages: pyspark\n",
            "  Building wheel for pyspark (setup.py) ... \u001b[?25l\u001b[?25hdone\n",
            "  Created wheel for pyspark: filename=pyspark-3.3.0-py2.py3-none-any.whl size=281764026 sha256=6d2e1c20d9f1586a151b3984f42f86b37407b5fd149a954bec6a3155098cc059\n",
            "  Stored in directory: /root/.cache/pip/wheels/7a/8e/1b/f73a52650d2e5f337708d9f6a1750d451a7349a867f928b885\n",
            "Successfully built pyspark\n",
            "Installing collected packages: py4j, pyspark\n",
            "Successfully installed py4j-0.10.9.5 pyspark-3.3.0\n"
          ]
        }
      ]
    },
    {
      "cell_type": "code",
      "source": [
        "import pyspark\n",
        "import pandas as pd\n",
        "from pyspark.sql import SparkSession\n",
        "\n",
        "import numpy as np\n",
        "import gdown\n",
        "from pyspark.sql.window import Window\n",
        "import pyspark.sql.functions as F\n"
      ],
      "metadata": {
        "id": "gpuIjPTcfY4j"
      },
      "execution_count": 2,
      "outputs": []
    },
    {
      "cell_type": "code",
      "source": [
        "spark=SparkSession.builder.appName('WCh').getOrCreate()"
      ],
      "metadata": {
        "id": "Kl6m5Vh-fjpd"
      },
      "execution_count": 3,
      "outputs": []
    },
    {
      "cell_type": "code",
      "source": [
        "spark"
      ],
      "metadata": {
        "colab": {
          "base_uri": "https://localhost:8080/",
          "height": 219
        },
        "id": "ucR-5iQffmZK",
        "outputId": "2657cd8d-9779-4692-83f9-79a112c8cc22"
      },
      "execution_count": 4,
      "outputs": [
        {
          "output_type": "execute_result",
          "data": {
            "text/plain": [
              "<pyspark.sql.session.SparkSession at 0x7fa76c190b10>"
            ],
            "text/html": [
              "\n",
              "            <div>\n",
              "                <p><b>SparkSession - in-memory</b></p>\n",
              "                \n",
              "        <div>\n",
              "            <p><b>SparkContext</b></p>\n",
              "\n",
              "            <p><a href=\"http://fab79b819659:4040\">Spark UI</a></p>\n",
              "\n",
              "            <dl>\n",
              "              <dt>Version</dt>\n",
              "                <dd><code>v3.3.0</code></dd>\n",
              "              <dt>Master</dt>\n",
              "                <dd><code>local[*]</code></dd>\n",
              "              <dt>AppName</dt>\n",
              "                <dd><code>WCh</code></dd>\n",
              "            </dl>\n",
              "        </div>\n",
              "        \n",
              "            </div>\n",
              "        "
            ]
          },
          "metadata": {},
          "execution_count": 4
        }
      ]
    },
    {
      "cell_type": "code",
      "source": [
        "df_pyspark_game = spark.read.option('header','true').csv('/content/drive/MyDrive/data_grokr/chess_wc_history_game_info.csv',inferSchema=True)\n",
        "df_pyspark_moves = spark.read.option('header','true').csv('/content/drive/MyDrive/data_grokr/chess_wc_history_moves.csv',inferSchema=True)\n",
        "df_pyspark_eco = spark.read.option('header','true').csv('/content/drive/MyDrive/data_grokr/eco_codes.csv',inferSchema=True)"
      ],
      "metadata": {
        "id": "DqnxEATxop8F"
      },
      "execution_count": 5,
      "outputs": []
    },
    {
      "cell_type": "code",
      "source": [
        "df_pyspark_game.show()"
      ],
      "metadata": {
        "colab": {
          "base_uri": "https://localhost:8080/"
        },
        "id": "8Qy0OB2gp5bf",
        "outputId": "ab7d1549-df4a-48a3-9a01-49225f1859cf"
      },
      "execution_count": 6,
      "outputs": [
        {
          "output_type": "stream",
          "name": "stdout",
          "text": [
            "+--------------------+----------+--------+----------+-----------+-----+----------------+----------------+-------+---------+---------+-----------+-----------+---------+----------+----------------+---------+---------------------+---+-------------------+---------------+\n",
            "|             game_id|game_order|   event|      site|date_played|round|           white|           black| result|white_elo|black_elo|white_title|black_title|   winner|winner_elo|           loser|loser_elo|winner_loser_elo_diff|eco|       date_created|tournament_name|\n",
            "+--------------------+----------+--------+----------+-----------+-----+----------------+----------------+-------+---------+---------+-----------+-----------+---------+----------+----------------+---------+---------------------+---+-------------------+---------------+\n",
            "|86e0b7f5-7b94-4ae...|         1|WCh 2021| Dubai UAE| 2021.11.26|  1.0|Nepomniachtchi,I|       Carlsen,M|1/2-1/2|     2782|     2855|       null|       null|     draw|      null|            draw|     null|                    0|C88|2022-07-22 22:33:50| WorldChamp2021|\n",
            "|dc4a10ab-54cf-49d...|         2|WCh 2021| Dubai UAE| 2021.11.27|  2.0|       Carlsen,M|Nepomniachtchi,I|1/2-1/2|     2855|     2782|       null|       null|     draw|      null|            draw|     null|                    0|E06|2022-07-22 22:33:50| WorldChamp2021|\n",
            "|f042ca37-8899-488...|         3|WCh 2021| Dubai UAE| 2021.11.28|  3.0|Nepomniachtchi,I|       Carlsen,M|1/2-1/2|     2782|     2855|       null|       null|     draw|      null|            draw|     null|                    0|C88|2022-07-22 22:33:50| WorldChamp2021|\n",
            "|f70e4bbc-21e3-46f...|         4|WCh 2021| Dubai UAE| 2021.11.30|  4.0|       Carlsen,M|Nepomniachtchi,I|1/2-1/2|     2855|     2782|       null|       null|     draw|      null|            draw|     null|                    0|C42|2022-07-22 22:33:50| WorldChamp2021|\n",
            "|c941c323-308a-4c8...|         5|WCh 2021| Dubai UAE| 2021.12.01|  5.0|Nepomniachtchi,I|       Carlsen,M|1/2-1/2|     2782|     2855|       null|       null|     draw|      null|            draw|     null|                    0|C88|2022-07-22 22:33:50| WorldChamp2021|\n",
            "|58e83255-93bb-4d5...|         6|WCh 2021| Dubai UAE| 2021.12.03|  6.0|       Carlsen,M|Nepomniachtchi,I|    1-0|     2855|     2782|       null|       null|Carlsen,M|      2855|Nepomniachtchi,I|     2782|                   73|D02|2022-07-22 22:33:50| WorldChamp2021|\n",
            "|29181d93-73f4-4fb...|         7|WCh 2021| Dubai UAE| 2021.12.04|  7.0|Nepomniachtchi,I|       Carlsen,M|1/2-1/2|     2782|     2855|       null|       null|     draw|      null|            draw|     null|                    0|C88|2022-07-22 22:33:50| WorldChamp2021|\n",
            "|8a4ccd8c-d437-429...|         8|WCh 2021| Dubai UAE| 2021.12.05|  8.0|       Carlsen,M|Nepomniachtchi,I|    1-0|     2855|     2782|       null|       null|Carlsen,M|      2855|Nepomniachtchi,I|     2782|                   73|C43|2022-07-22 22:33:50| WorldChamp2021|\n",
            "|55a122db-27d1-495...|         9|WCh 2021| Dubai UAE| 2021.12.07|  9.0|Nepomniachtchi,I|       Carlsen,M|    0-1|     2782|     2855|       null|       null|Carlsen,M|      2855|Nepomniachtchi,I|     2782|                   73|A13|2022-07-22 22:33:50| WorldChamp2021|\n",
            "|1f900d18-5ea3-4f4...|        10|WCh 2021| Dubai UAE| 2021.12.08| 10.0|       Carlsen,M|Nepomniachtchi,I|1/2-1/2|     2855|     2782|       null|       null|     draw|      null|            draw|     null|                    0|C42|2022-07-22 22:33:50| WorldChamp2021|\n",
            "|c512a953-a341-47c...|        11|WCh 2021| Dubai UAE| 2021.12.10| 11.0|Nepomniachtchi,I|       Carlsen,M|    0-1|     2782|     2855|       null|       null|Carlsen,M|      2855|Nepomniachtchi,I|     2782|                   73|C50|2022-07-22 22:33:50| WorldChamp2021|\n",
            "|99d39a93-427e-4d1...|         1|WCh 2018|London ENG| 2018.11.09|  1.0|Caruana, Fabiano| Carlsen, Magnus|1/2-1/2|     2832|     2835|         GM|         GM|     draw|      null|            draw|     null|                    0|B31|2022-07-22 22:33:50| WorldChamp2018|\n",
            "|c87ceb3e-67a7-45d...|         2|WCh 2018|London ENG| 2018.11.10|  2.0| Carlsen, Magnus|Caruana, Fabiano|1/2-1/2|     2835|     2832|         GM|         GM|     draw|      null|            draw|     null|                    0|D37|2022-07-22 22:33:50| WorldChamp2018|\n",
            "|d50510ea-9c1a-460...|         3|WCh 2018|London ENG| 2018.11.12|  3.0|Caruana, Fabiano| Carlsen, Magnus|1/2-1/2|     2832|     2835|         GM|         GM|     draw|      null|            draw|     null|                    0|B31|2022-07-22 22:33:50| WorldChamp2018|\n",
            "|e899e16a-281e-41b...|         4|WCh 2018|London ENG| 2018.11.13|  4.0| Carlsen, Magnus|Caruana, Fabiano|1/2-1/2|     2835|     2832|         GM|         GM|     draw|      null|            draw|     null|                    0|A29|2022-07-22 22:33:50| WorldChamp2018|\n",
            "|59f8da88-fd21-405...|         5|WCh 2018|London ENG| 2018.11.15|  5.0|Caruana, Fabiano| Carlsen, Magnus|1/2-1/2|     2832|     2835|         GM|         GM|     draw|      null|            draw|     null|                    0|B31|2022-07-22 22:33:50| WorldChamp2018|\n",
            "|6dcc4b46-3155-47e...|         6|WCh 2018|London ENG| 2018.11.16|  6.0| Carlsen, Magnus|Caruana, Fabiano|1/2-1/2|     2835|     2832|         GM|         GM|     draw|      null|            draw|     null|                    0|C42|2022-07-22 22:33:50| WorldChamp2018|\n",
            "|c0c727cf-03ec-4b4...|         7|WCh 2018|London ENG| 2018.11.18|  7.0| Carlsen, Magnus|Caruana, Fabiano|1/2-1/2|     2835|     2832|         GM|         GM|     draw|      null|            draw|     null|                    0|D37|2022-07-22 22:33:50| WorldChamp2018|\n",
            "|4c14e044-cacc-405...|         8|WCh 2018|London ENG| 2018.11.19|  8.0|Caruana, Fabiano| Carlsen, Magnus|1/2-1/2|     2832|     2835|         GM|         GM|     draw|      null|            draw|     null|                    0|B33|2022-07-22 22:33:50| WorldChamp2018|\n",
            "|3f4eb26e-3cd1-43b...|         9|WCh 2018|London ENG| 2018.11.21|  9.0| Carlsen, Magnus|Caruana, Fabiano|1/2-1/2|     2835|     2832|         GM|         GM|     draw|      null|            draw|     null|                    0|A29|2022-07-22 22:33:50| WorldChamp2018|\n",
            "+--------------------+----------+--------+----------+-----------+-----+----------------+----------------+-------+---------+---------+-----------+-----------+---------+----------+----------------+---------+---------------------+---+-------------------+---------------+\n",
            "only showing top 20 rows\n",
            "\n"
          ]
        }
      ]
    },
    {
      "cell_type": "code",
      "source": [
        "  df_pyspark_game.printSchema()"
      ],
      "metadata": {
        "colab": {
          "base_uri": "https://localhost:8080/"
        },
        "id": "RAk5FEIwp8uy",
        "outputId": "76206c0f-78a8-48ba-99bb-4d72a069f94e"
      },
      "execution_count": 7,
      "outputs": [
        {
          "output_type": "stream",
          "name": "stdout",
          "text": [
            "root\n",
            " |-- game_id: string (nullable = true)\n",
            " |-- game_order: integer (nullable = true)\n",
            " |-- event: string (nullable = true)\n",
            " |-- site: string (nullable = true)\n",
            " |-- date_played: string (nullable = true)\n",
            " |-- round: double (nullable = true)\n",
            " |-- white: string (nullable = true)\n",
            " |-- black: string (nullable = true)\n",
            " |-- result: string (nullable = true)\n",
            " |-- white_elo: integer (nullable = true)\n",
            " |-- black_elo: integer (nullable = true)\n",
            " |-- white_title: string (nullable = true)\n",
            " |-- black_title: string (nullable = true)\n",
            " |-- winner: string (nullable = true)\n",
            " |-- winner_elo: integer (nullable = true)\n",
            " |-- loser: string (nullable = true)\n",
            " |-- loser_elo: integer (nullable = true)\n",
            " |-- winner_loser_elo_diff: integer (nullable = true)\n",
            " |-- eco: string (nullable = true)\n",
            " |-- date_created: timestamp (nullable = true)\n",
            " |-- tournament_name: string (nullable = true)\n",
            "\n"
          ]
        }
      ]
    },
    {
      "cell_type": "code",
      "source": [
        "df_pyspark_moves.show()"
      ],
      "metadata": {
        "colab": {
          "base_uri": "https://localhost:8080/"
        },
        "id": "T6MwPA3nq0oc",
        "outputId": "37e167c2-5723-47c4-f8b0-183eebff514a"
      },
      "execution_count": 8,
      "outputs": [
        {
          "output_type": "stream",
          "name": "stdout",
          "text": [
            "+--------------------+-------+------------+----------------+--------+----+-----------+---------+-----+-----+--------------------+--------+-------------+--------------+----------------------+------------+------------------------+-----------+-----------+----------------+----------------+-----------------+-----------------+------------------+------------------+------------------+------------------+----------------+----------------+------------------------+------------------------+--------------------+--------------------+--------------------+--------------------+--------------------+--------------------+--------------------+--------------------+--------------------+--------------------+--------------------+--------------------+--------------------+--------------------+--------------------+--------------------+--------------------+--------------------+--------------------+--------------------+--------------------+--------------------+--------------------+--------------------+--------------------+--------------------+--------------------+--------------------+--------------------+--------------------+--------------------+--------------------+--------------------+\n",
            "|             game_id|move_no|move_no_pair|          player|notation|move|from_square|to_square|piece|color|                 fen|is_check|is_check_mate|is_fifty_moves|is_fivefold_repetition|is_game_over|is_insufficient_material|white_count|black_count|white_pawn_count|black_pawn_count|white_queen_count|black_queen_count|white_bishop_count|black_bishop_count|white_knight_count|black_knight_count|white_rook_count|black_rook_count|captured_score_for_white|captured_score_for_black|fen_row1_white_count|fen_row2_white_count|fen_row3_white_count|fen_row4_white_count|fen_row5_white_count|fen_row6_white_count|fen_row7_white_count|fen_row8_white_count|fen_row1_white_value|fen_row2_white_value|fen_row3_white_value|fen_row4_white_value|fen_row5_white_value|fen_row6_white_value|fen_row7_white_value|fen_row8_white_value|fen_row1_black_count|fen_row2_black_count|fen_row3_black_count|fen_row4_black_count|fen_row5_black_count|fen_row6_black_count|fen_row7_black_count|fen_row8_black_count|fen_row1_black_value|fen_row2_black_value|fen_row3_black_value|fen_row4_black_value|fen_row5_black_value|fen_row6_black_value|fen_row7_black_value|fen_row8_black_value|       move_sequence|\n",
            "+--------------------+-------+------------+----------------+--------+----+-----------+---------+-----+-----+--------------------+--------+-------------+--------------+----------------------+------------+------------------------+-----------+-----------+----------------+----------------+-----------------+-----------------+------------------+------------------+------------------+------------------+----------------+----------------+------------------------+------------------------+--------------------+--------------------+--------------------+--------------------+--------------------+--------------------+--------------------+--------------------+--------------------+--------------------+--------------------+--------------------+--------------------+--------------------+--------------------+--------------------+--------------------+--------------------+--------------------+--------------------+--------------------+--------------------+--------------------+--------------------+--------------------+--------------------+--------------------+--------------------+--------------------+--------------------+--------------------+--------------------+--------------------+\n",
            "|86e0b7f5-7b94-4ae...|      1|           1|Nepomniachtchi,I|      e4|e2e4|         e2|       e4|    P|White|rnbqkbnr/pppppppp...|       0|            0|             0|                     0|           0|                       0|         16|         16|               8|               8|                1|                1|                 2|                 2|                 2|                 2|               2|               2|                       0|                       0|                   8|                   7|                   0|                   1|                   0|                   0|                   0|                   0|                  31|                   7|                   0|                   1|                   0|                   0|                   0|                   0|                   0|                   0|                   0|                   0|                   0|                   0|                   8|                   8|                   0|                   0|                   0|                   0|                   0|                   0|                   8|                  31|                  e4|\n",
            "|86e0b7f5-7b94-4ae...|      2|           1|       Carlsen,M|      e5|e7e5|         e7|       e5|    P|Black|rnbqkbnr/pppp1ppp...|       0|            0|             0|                     0|           0|                       0|         16|         16|               8|               8|                1|                1|                 2|                 2|                 2|                 2|               2|               2|                       0|                       0|                   8|                   7|                   0|                   1|                   0|                   0|                   0|                   0|                  31|                   7|                   0|                   1|                   0|                   0|                   0|                   0|                   0|                   0|                   0|                   0|                   1|                   0|                   7|                   8|                   0|                   0|                   0|                   0|                   1|                   0|                   7|                  31|               e4|e5|\n",
            "|86e0b7f5-7b94-4ae...|      3|           2|Nepomniachtchi,I|     Nf3|g1f3|         g1|       f3|    N|White|rnbqkbnr/pppp1ppp...|       0|            0|             0|                     0|           0|                       0|         16|         16|               8|               8|                1|                1|                 2|                 2|                 2|                 2|               2|               2|                       0|                       0|                   7|                   7|                   1|                   1|                   0|                   0|                   0|                   0|                  28|                   7|                   3|                   1|                   0|                   0|                   0|                   0|                   0|                   0|                   0|                   0|                   1|                   0|                   7|                   8|                   0|                   0|                   0|                   0|                   1|                   0|                   7|                  31|           e4|e5|Nf3|\n",
            "|86e0b7f5-7b94-4ae...|      4|           2|       Carlsen,M|     Nc6|b8c6|         b8|       c6|    N|Black|r1bqkbnr/pppp1ppp...|       0|            0|             0|                     0|           0|                       0|         16|         16|               8|               8|                1|                1|                 2|                 2|                 2|                 2|               2|               2|                       0|                       0|                   7|                   7|                   1|                   1|                   0|                   0|                   0|                   0|                  28|                   7|                   3|                   1|                   0|                   0|                   0|                   0|                   0|                   0|                   0|                   0|                   1|                   1|                   7|                   7|                   0|                   0|                   0|                   0|                   1|                   3|                   7|                  28|       e4|e5|Nf3|Nc6|\n",
            "|86e0b7f5-7b94-4ae...|      5|           3|Nepomniachtchi,I|     Bb5|f1b5|         f1|       b5|    B|White|r1bqkbnr/pppp1ppp...|       0|            0|             0|                     0|           0|                       0|         16|         16|               8|               8|                1|                1|                 2|                 2|                 2|                 2|               2|               2|                       0|                       0|                   6|                   7|                   1|                   1|                   1|                   0|                   0|                   0|                  25|                   7|                   3|                   1|                   3|                   0|                   0|                   0|                   0|                   0|                   0|                   0|                   1|                   1|                   7|                   7|                   0|                   0|                   0|                   0|                   1|                   3|                   7|                  28|   e4|e5|Nf3|Nc6|Bb5|\n",
            "|86e0b7f5-7b94-4ae...|      6|           3|       Carlsen,M|      a6|a7a6|         a7|       a6|    P|Black|r1bqkbnr/1ppp1ppp...|       0|            0|             0|                     0|           0|                       0|         16|         16|               8|               8|                1|                1|                 2|                 2|                 2|                 2|               2|               2|                       0|                       0|                   6|                   7|                   1|                   1|                   1|                   0|                   0|                   0|                  25|                   7|                   3|                   1|                   3|                   0|                   0|                   0|                   0|                   0|                   0|                   0|                   1|                   2|                   6|                   7|                   0|                   0|                   0|                   0|                   1|                   4|                   6|                  28|e4|e5|Nf3|Nc6|Bb5|a6|\n",
            "|86e0b7f5-7b94-4ae...|      7|           4|Nepomniachtchi,I|     Ba4|b5a4|         b5|       a4|    B|White|r1bqkbnr/1ppp1ppp...|       0|            0|             0|                     0|           0|                       0|         16|         16|               8|               8|                1|                1|                 2|                 2|                 2|                 2|               2|               2|                       0|                       0|                   6|                   7|                   1|                   2|                   0|                   0|                   0|                   0|                  25|                   7|                   3|                   4|                   0|                   0|                   0|                   0|                   0|                   0|                   0|                   0|                   1|                   2|                   6|                   7|                   0|                   0|                   0|                   0|                   1|                   4|                   6|                  28|e4|e5|Nf3|Nc6|Bb5...|\n",
            "|86e0b7f5-7b94-4ae...|      8|           4|       Carlsen,M|     Nf6|g8f6|         g8|       f6|    N|Black|r1bqkb1r/1ppp1ppp...|       0|            0|             0|                     0|           0|                       0|         16|         16|               8|               8|                1|                1|                 2|                 2|                 2|                 2|               2|               2|                       0|                       0|                   6|                   7|                   1|                   2|                   0|                   0|                   0|                   0|                  25|                   7|                   3|                   4|                   0|                   0|                   0|                   0|                   0|                   0|                   0|                   0|                   1|                   3|                   6|                   6|                   0|                   0|                   0|                   0|                   1|                   7|                   6|                  25|e4|e5|Nf3|Nc6|Bb5...|\n",
            "|86e0b7f5-7b94-4ae...|      9|           5|Nepomniachtchi,I|     O-O|e1g1|         e1|       g1|    K|White|r1bqkb1r/1ppp1ppp...|       0|            0|             0|                     0|           0|                       0|         16|         16|               8|               8|                1|                1|                 2|                 2|                 2|                 2|               2|               2|                       0|                       0|                   6|                   7|                   1|                   2|                   0|                   0|                   0|                   0|                  25|                   7|                   3|                   4|                   0|                   0|                   0|                   0|                   0|                   0|                   0|                   0|                   1|                   3|                   6|                   6|                   0|                   0|                   0|                   0|                   1|                   7|                   6|                  25|e4|e5|Nf3|Nc6|Bb5...|\n",
            "|86e0b7f5-7b94-4ae...|     10|           5|       Carlsen,M|     Be7|f8e7|         f8|       e7|    B|Black|r1bqk2r/1pppbppp/...|       0|            0|             0|                     0|           0|                       0|         16|         16|               8|               8|                1|                1|                 2|                 2|                 2|                 2|               2|               2|                       0|                       0|                   6|                   7|                   1|                   2|                   0|                   0|                   0|                   0|                  25|                   7|                   3|                   4|                   0|                   0|                   0|                   0|                   0|                   0|                   0|                   0|                   1|                   3|                   7|                   5|                   0|                   0|                   0|                   0|                   1|                   7|                   9|                  22|e4|e5|Nf3|Nc6|Bb5...|\n",
            "|86e0b7f5-7b94-4ae...|     11|           6|Nepomniachtchi,I|     Re1|f1e1|         f1|       e1|    R|White|r1bqk2r/1pppbppp/...|       0|            0|             0|                     0|           0|                       0|         16|         16|               8|               8|                1|                1|                 2|                 2|                 2|                 2|               2|               2|                       0|                       0|                   6|                   7|                   1|                   2|                   0|                   0|                   0|                   0|                  25|                   7|                   3|                   4|                   0|                   0|                   0|                   0|                   0|                   0|                   0|                   0|                   1|                   3|                   7|                   5|                   0|                   0|                   0|                   0|                   1|                   7|                   9|                  22|e4|e5|Nf3|Nc6|Bb5...|\n",
            "|86e0b7f5-7b94-4ae...|     12|           6|       Carlsen,M|      b5|b7b5|         b7|       b5|    P|Black|r1bqk2r/2ppbppp/p...|       0|            0|             0|                     0|           0|                       0|         16|         16|               8|               8|                1|                1|                 2|                 2|                 2|                 2|               2|               2|                       0|                       0|                   6|                   7|                   1|                   2|                   0|                   0|                   0|                   0|                  25|                   7|                   3|                   4|                   0|                   0|                   0|                   0|                   0|                   0|                   0|                   0|                   2|                   3|                   6|                   5|                   0|                   0|                   0|                   0|                   2|                   7|                   8|                  22|e4|e5|Nf3|Nc6|Bb5...|\n",
            "|86e0b7f5-7b94-4ae...|     13|           7|Nepomniachtchi,I|     Bb3|a4b3|         a4|       b3|    B|White|r1bqk2r/2ppbppp/p...|       0|            0|             0|                     0|           0|                       0|         16|         16|               8|               8|                1|                1|                 2|                 2|                 2|                 2|               2|               2|                       0|                       0|                   6|                   7|                   2|                   1|                   0|                   0|                   0|                   0|                  25|                   7|                   6|                   1|                   0|                   0|                   0|                   0|                   0|                   0|                   0|                   0|                   2|                   3|                   6|                   5|                   0|                   0|                   0|                   0|                   2|                   7|                   8|                  22|e4|e5|Nf3|Nc6|Bb5...|\n",
            "|86e0b7f5-7b94-4ae...|     14|           7|       Carlsen,M|     O-O|e8g8|         e8|       g8|    K|Black|r1bq1rk1/2ppbppp/...|       0|            0|             0|                     0|           0|                       0|         16|         16|               8|               8|                1|                1|                 2|                 2|                 2|                 2|               2|               2|                       0|                       0|                   6|                   7|                   2|                   1|                   0|                   0|                   0|                   0|                  25|                   7|                   6|                   1|                   0|                   0|                   0|                   0|                   0|                   0|                   0|                   0|                   2|                   3|                   6|                   5|                   0|                   0|                   0|                   0|                   2|                   7|                   8|                  22|e4|e5|Nf3|Nc6|Bb5...|\n",
            "|86e0b7f5-7b94-4ae...|     15|           8|Nepomniachtchi,I|      h3|h2h3|         h2|       h3|    P|White|r1bq1rk1/2ppbppp/...|       0|            0|             0|                     0|           0|                       0|         16|         16|               8|               8|                1|                1|                 2|                 2|                 2|                 2|               2|               2|                       0|                       0|                   6|                   6|                   3|                   1|                   0|                   0|                   0|                   0|                  25|                   6|                   7|                   1|                   0|                   0|                   0|                   0|                   0|                   0|                   0|                   0|                   2|                   3|                   6|                   5|                   0|                   0|                   0|                   0|                   2|                   7|                   8|                  22|e4|e5|Nf3|Nc6|Bb5...|\n",
            "|86e0b7f5-7b94-4ae...|     16|           8|       Carlsen,M|     Na5|c6a5|         c6|       a5|    N|Black|r1bq1rk1/2ppbppp/...|       0|            0|             0|                     0|           0|                       0|         16|         16|               8|               8|                1|                1|                 2|                 2|                 2|                 2|               2|               2|                       0|                       0|                   6|                   6|                   3|                   1|                   0|                   0|                   0|                   0|                  25|                   6|                   7|                   1|                   0|                   0|                   0|                   0|                   0|                   0|                   0|                   0|                   3|                   2|                   6|                   5|                   0|                   0|                   0|                   0|                   5|                   4|                   8|                  22|e4|e5|Nf3|Nc6|Bb5...|\n",
            "|86e0b7f5-7b94-4ae...|     17|           9|Nepomniachtchi,I|    Nxe5|f3e5|         f3|       e5|    N|White|r1bq1rk1/2ppbppp/...|       0|            0|             0|                     0|           0|                       0|         16|         15|               8|               7|                1|                1|                 2|                 2|                 2|                 2|               2|               2|                       1|                       0|                   6|                   6|                   2|                   1|                   1|                   0|                   0|                   0|                  25|                   6|                   4|                   1|                   3|                   0|                   0|                   0|                   0|                   0|                   0|                   0|                   2|                   2|                   6|                   5|                   0|                   0|                   0|                   0|                   4|                   4|                   8|                  22|e4|e5|Nf3|Nc6|Bb5...|\n",
            "|86e0b7f5-7b94-4ae...|     18|           9|       Carlsen,M|    Nxb3|a5b3|         a5|       b3|    N|Black|r1bq1rk1/2ppbppp/...|       0|            0|             0|                     0|           0|                       0|         15|         15|               8|               7|                1|                1|                 1|                 2|                 2|                 2|               2|               2|                       1|                       3|                   6|                   6|                   1|                   1|                   1|                   0|                   0|                   0|                  25|                   6|                   1|                   1|                   3|                   0|                   0|                   0|                   0|                   0|                   1|                   0|                   1|                   2|                   6|                   5|                   0|                   0|                   3|                   0|                   1|                   4|                   8|                  22|e4|e5|Nf3|Nc6|Bb5...|\n",
            "|86e0b7f5-7b94-4ae...|     19|          10|Nepomniachtchi,I|    axb3|a2b3|         a2|       b3|    P|White|r1bq1rk1/2ppbppp/...|       0|            0|             0|                     0|           0|                       0|         15|         14|               8|               7|                1|                1|                 1|                 2|                 2|                 1|               2|               2|                       4|                       3|                   6|                   5|                   2|                   1|                   1|                   0|                   0|                   0|                  25|                   5|                   2|                   1|                   3|                   0|                   0|                   0|                   0|                   0|                   0|                   0|                   1|                   2|                   6|                   5|                   0|                   0|                   0|                   0|                   1|                   4|                   8|                  22|e4|e5|Nf3|Nc6|Bb5...|\n",
            "|86e0b7f5-7b94-4ae...|     20|          10|       Carlsen,M|     Bb7|c8b7|         c8|       b7|    B|Black|r2q1rk1/1bppbppp/...|       0|            0|             0|                     0|           0|                       0|         15|         14|               8|               7|                1|                1|                 1|                 2|                 2|                 1|               2|               2|                       4|                       3|                   6|                   5|                   2|                   1|                   1|                   0|                   0|                   0|                  25|                   5|                   2|                   1|                   3|                   0|                   0|                   0|                   0|                   0|                   0|                   0|                   1|                   2|                   7|                   4|                   0|                   0|                   0|                   0|                   1|                   4|                  11|                  19|e4|e5|Nf3|Nc6|Bb5...|\n",
            "+--------------------+-------+------------+----------------+--------+----+-----------+---------+-----+-----+--------------------+--------+-------------+--------------+----------------------+------------+------------------------+-----------+-----------+----------------+----------------+-----------------+-----------------+------------------+------------------+------------------+------------------+----------------+----------------+------------------------+------------------------+--------------------+--------------------+--------------------+--------------------+--------------------+--------------------+--------------------+--------------------+--------------------+--------------------+--------------------+--------------------+--------------------+--------------------+--------------------+--------------------+--------------------+--------------------+--------------------+--------------------+--------------------+--------------------+--------------------+--------------------+--------------------+--------------------+--------------------+--------------------+--------------------+--------------------+--------------------+--------------------+--------------------+\n",
            "only showing top 20 rows\n",
            "\n"
          ]
        }
      ]
    },
    {
      "cell_type": "code",
      "source": [
        "df_pyspark_eco.show()"
      ],
      "metadata": {
        "colab": {
          "base_uri": "https://localhost:8080/"
        },
        "id": "kBrofVg_soKQ",
        "outputId": "5a0b7392-3c34-4d5e-b951-64e922052b6e"
      },
      "execution_count": 9,
      "outputs": [
        {
          "output_type": "stream",
          "name": "stdout",
          "text": [
            "+---+--------------------+--------------------+--------+---------+\n",
            "|eco|            eco_name|         eco_example|eco_type|eco_group|\n",
            "+---+--------------------+--------------------+--------+---------+\n",
            "|A00|    Uncommon Opening|  1 g4, a3, h3, etc.|       A|    Flank|\n",
            "|A01|Nimzovich-Larsen ...|                1 b3|       A|    Flank|\n",
            "|A02|      Bird's Opening|                1 f4|       A|    Flank|\n",
            "|A03|      Bird's Opening|             1 f4 d5|       A|    Flank|\n",
            "|A04|        Reti Opening|               1 Nf3|       A|    Flank|\n",
            "|A05|        Reti Opening|           1 Nf3 Nf6|       A|    Flank|\n",
            "|A06|        Reti Opening|            1 Nf3 d5|       A|    Flank|\n",
            "|A07|King's Indian Attack|       1 Nf3 d5 2 g3|       A|    Flank|\n",
            "|A08|King's Indian Attack|1 Nf3 d5 2 g3 c5 ...|       A|    Flank|\n",
            "|A09|        Reti Opening|       1 Nf3 d5 2 c4|       A|    Flank|\n",
            "|A10|             English|                1 c4|       A|    Flank|\n",
            "|A11|English, Caro-Kan...|             1 c4 c6|       A|    Flank|\n",
            "|A12|     English with b3|1 c4 c6 2 Nf3 d5 ...|       A|    Flank|\n",
            "|A13|             English|             1 c4 e6|       A|    Flank|\n",
            "|A14|             English|1 c4 e6 2 Nf3 d5 ...|       A|    Flank|\n",
            "|A15|             English|            1 c4 Nf6|       A|    Flank|\n",
            "|A16|             English|      1 c4 Nf6 2 Nc3|       A|    Flank|\n",
            "|A17|             English|   1 c4 Nf6 2 Nc3 e6|       A|    Flank|\n",
            "|A18|English, Mikenas-...|1 c4 Nf6 2 Nc3 e6...|       A|    Flank|\n",
            "|A19|English, Mikenas-...|1 c4 Nf6 2 Nc3 e6...|       A|    Flank|\n",
            "+---+--------------------+--------------------+--------+---------+\n",
            "only showing top 20 rows\n",
            "\n"
          ]
        }
      ]
    },
    {
      "cell_type": "code",
      "source": [
        "print(\" df_pyspark_game\",\"rows:\",df_pyspark_game.count(),\"columns:\",len(df_pyspark_game.columns))\n",
        "print(\"df_pyspark_moves\",\"rows:\",df_pyspark_moves.count(),\"columns:\",len(df_pyspark_moves.columns))\n",
        "print(\"df_pyspark_eco\",\"rows:\",df_pyspark_eco.count(),\"columns:\",len(df_pyspark_eco.columns))"
      ],
      "metadata": {
        "colab": {
          "base_uri": "https://localhost:8080/"
        },
        "id": "cn1PETZw7vjR",
        "outputId": "729843dd-e2f4-4a3c-daba-7c5e322f8cb0"
      },
      "execution_count": 13,
      "outputs": [
        {
          "output_type": "stream",
          "name": "stdout",
          "text": [
            " df_pyspark_game rows: 2938 columns: 21\n",
            "df_pyspark_moves rows: 252948 columns: 64\n",
            "df_pyspark_eco rows: 500 columns: 5\n"
          ]
        }
      ]
    },
    {
      "cell_type": "markdown",
      "source": [
        "# ** 1. List of Winners of Each World champions Trophy**"
      ],
      "metadata": {
        "id": "uGvl8NGw4UK4"
      }
    },
    {
      "cell_type": "code",
      "source": [
        "df_pyspark_game.select(['winner','tournament_name']).show()\n",
        "#df_pyspark.select(['winner','tournament_name']).show(2939)"
      ],
      "metadata": {
        "colab": {
          "base_uri": "https://localhost:8080/"
        },
        "id": "7cAEGWdsvulF",
        "outputId": "a1b0ed34-2620-435e-9b59-b48704362689"
      },
      "execution_count": 10,
      "outputs": [
        {
          "output_type": "stream",
          "name": "stdout",
          "text": [
            "+---------+---------------+\n",
            "|   winner|tournament_name|\n",
            "+---------+---------------+\n",
            "|     draw| WorldChamp2021|\n",
            "|     draw| WorldChamp2021|\n",
            "|     draw| WorldChamp2021|\n",
            "|     draw| WorldChamp2021|\n",
            "|     draw| WorldChamp2021|\n",
            "|Carlsen,M| WorldChamp2021|\n",
            "|     draw| WorldChamp2021|\n",
            "|Carlsen,M| WorldChamp2021|\n",
            "|Carlsen,M| WorldChamp2021|\n",
            "|     draw| WorldChamp2021|\n",
            "|Carlsen,M| WorldChamp2021|\n",
            "|     draw| WorldChamp2018|\n",
            "|     draw| WorldChamp2018|\n",
            "|     draw| WorldChamp2018|\n",
            "|     draw| WorldChamp2018|\n",
            "|     draw| WorldChamp2018|\n",
            "|     draw| WorldChamp2018|\n",
            "|     draw| WorldChamp2018|\n",
            "|     draw| WorldChamp2018|\n",
            "|     draw| WorldChamp2018|\n",
            "+---------+---------------+\n",
            "only showing top 20 rows\n",
            "\n"
          ]
        }
      ]
    },
    {
      "cell_type": "code",
      "source": [
        "var1 = df_pyspark_game.filter((df_pyspark_game.tournament_name.contains('WorldChamp')) & (~df_pyspark_game['winner'].isin(['draw'])))\n",
        "var1 = var1.groupBy(\"tournament_name\", \"winner\").count().orderBy(\"tournament_name\")\n",
        "win = Window.partitionBy('tournament_name').orderBy(F.col('count').desc())\n",
        "var1 = var1.withColumn('row', F.row_number().over(win)).select(\"winner\", \"tournament_name\",\"count\",\"row\").where(F.col(\"row\")==1)\n",
        "var1=var1.drop(*[\"count\",\"row\"])\n",
        "var1.show()"
      ],
      "metadata": {
        "colab": {
          "base_uri": "https://localhost:8080/"
        },
        "id": "uSHL7Idcv7Fu",
        "outputId": "eaab63d2-acd1-4604-e96a-fbd3e7e24f31"
      },
      "execution_count": 11,
      "outputs": [
        {
          "output_type": "stream",
          "name": "stdout",
          "text": [
            "+--------------------+---------------+\n",
            "|              winner|tournament_name|\n",
            "+--------------------+---------------+\n",
            "|   Steinitz, William| WorldChamp1886|\n",
            "|   Steinitz, William| WorldChamp1889|\n",
            "|   Steinitz, William| WorldChamp1890|\n",
            "|   Steinitz, William| WorldChamp1892|\n",
            "|     Lasker, Emanuel| WorldChamp1894|\n",
            "|     Lasker, Emanuel| WorldChamp1896|\n",
            "|     Lasker, Emanuel| WorldChamp1907|\n",
            "|     Lasker, Emanuel| WorldChamp1908|\n",
            "|     Lasker, Emanuel| WorldChamp1909|\n",
            "|    Schlechter, Carl|WorldChamp1910a|\n",
            "|     Lasker, Emanuel|WorldChamp1910b|\n",
            "|Capablanca, Jose ...| WorldChamp1921|\n",
            "| Alekhine, Alexander| WorldChamp1927|\n",
            "| Alekhine, Alexander| WorldChamp1929|\n",
            "| Alekhine, Alexander| WorldChamp1934|\n",
            "|           Euwe, Max| WorldChamp1935|\n",
            "| Alekhine, Alexander| WorldChamp1937|\n",
            "|  Botvinnik, Mikhail| WorldChamp1948|\n",
            "|  Botvinnik, Mikhail| WorldChamp1951|\n",
            "|  Botvinnik, Mikhail| WorldChamp1954|\n",
            "+--------------------+---------------+\n",
            "only showing top 20 rows\n",
            "\n"
          ]
        }
      ]
    },
    {
      "cell_type": "code",
      "source": [
        "#df_pyspark_moves.withColumnRenamed('player','player_name').show()"
      ],
      "metadata": {
        "id": "d_6EgEYfzhoD"
      },
      "execution_count": 10,
      "outputs": []
    },
    {
      "cell_type": "code",
      "source": [
        "\n",
        "#df_pyspark = df_pyspark_moves.withColumn('number_of_wins',df_pyspark_moves['winner'])"
      ],
      "metadata": {
        "id": "86OUWhSf1SJS"
      },
      "execution_count": 18,
      "outputs": []
    },
    {
      "cell_type": "code",
      "source": [
        "training = spark.read.csv('/content/drive/MyDrive/data_grokr/chess_wc_history_game_info.csv',header=True,inferSchema=True)"
      ],
      "metadata": {
        "id": "FWbfO2ns1xMC"
      },
      "execution_count": 13,
      "outputs": []
    },
    {
      "cell_type": "code",
      "source": [
        "training.show()"
      ],
      "metadata": {
        "colab": {
          "base_uri": "https://localhost:8080/"
        },
        "id": "uR-Hyh_D5oZE",
        "outputId": "7480f3a2-127f-46cf-8a70-1a6527defd0a"
      },
      "execution_count": 20,
      "outputs": [
        {
          "output_type": "stream",
          "name": "stdout",
          "text": [
            "+--------------------+----------+--------+----------+-----------+-----+----------------+----------------+-------+---------+---------+-----------+-----------+---------+----------+----------------+---------+---------------------+---+-------------------+---------------+\n",
            "|             game_id|game_order|   event|      site|date_played|round|           white|           black| result|white_elo|black_elo|white_title|black_title|   winner|winner_elo|           loser|loser_elo|winner_loser_elo_diff|eco|       date_created|tournament_name|\n",
            "+--------------------+----------+--------+----------+-----------+-----+----------------+----------------+-------+---------+---------+-----------+-----------+---------+----------+----------------+---------+---------------------+---+-------------------+---------------+\n",
            "|86e0b7f5-7b94-4ae...|         1|WCh 2021| Dubai UAE| 2021.11.26|  1.0|Nepomniachtchi,I|       Carlsen,M|1/2-1/2|     2782|     2855|       null|       null|     draw|      null|            draw|     null|                    0|C88|2022-07-22 22:33:50| WorldChamp2021|\n",
            "|dc4a10ab-54cf-49d...|         2|WCh 2021| Dubai UAE| 2021.11.27|  2.0|       Carlsen,M|Nepomniachtchi,I|1/2-1/2|     2855|     2782|       null|       null|     draw|      null|            draw|     null|                    0|E06|2022-07-22 22:33:50| WorldChamp2021|\n",
            "|f042ca37-8899-488...|         3|WCh 2021| Dubai UAE| 2021.11.28|  3.0|Nepomniachtchi,I|       Carlsen,M|1/2-1/2|     2782|     2855|       null|       null|     draw|      null|            draw|     null|                    0|C88|2022-07-22 22:33:50| WorldChamp2021|\n",
            "|f70e4bbc-21e3-46f...|         4|WCh 2021| Dubai UAE| 2021.11.30|  4.0|       Carlsen,M|Nepomniachtchi,I|1/2-1/2|     2855|     2782|       null|       null|     draw|      null|            draw|     null|                    0|C42|2022-07-22 22:33:50| WorldChamp2021|\n",
            "|c941c323-308a-4c8...|         5|WCh 2021| Dubai UAE| 2021.12.01|  5.0|Nepomniachtchi,I|       Carlsen,M|1/2-1/2|     2782|     2855|       null|       null|     draw|      null|            draw|     null|                    0|C88|2022-07-22 22:33:50| WorldChamp2021|\n",
            "|58e83255-93bb-4d5...|         6|WCh 2021| Dubai UAE| 2021.12.03|  6.0|       Carlsen,M|Nepomniachtchi,I|    1-0|     2855|     2782|       null|       null|Carlsen,M|      2855|Nepomniachtchi,I|     2782|                   73|D02|2022-07-22 22:33:50| WorldChamp2021|\n",
            "|29181d93-73f4-4fb...|         7|WCh 2021| Dubai UAE| 2021.12.04|  7.0|Nepomniachtchi,I|       Carlsen,M|1/2-1/2|     2782|     2855|       null|       null|     draw|      null|            draw|     null|                    0|C88|2022-07-22 22:33:50| WorldChamp2021|\n",
            "|8a4ccd8c-d437-429...|         8|WCh 2021| Dubai UAE| 2021.12.05|  8.0|       Carlsen,M|Nepomniachtchi,I|    1-0|     2855|     2782|       null|       null|Carlsen,M|      2855|Nepomniachtchi,I|     2782|                   73|C43|2022-07-22 22:33:50| WorldChamp2021|\n",
            "|55a122db-27d1-495...|         9|WCh 2021| Dubai UAE| 2021.12.07|  9.0|Nepomniachtchi,I|       Carlsen,M|    0-1|     2782|     2855|       null|       null|Carlsen,M|      2855|Nepomniachtchi,I|     2782|                   73|A13|2022-07-22 22:33:50| WorldChamp2021|\n",
            "|1f900d18-5ea3-4f4...|        10|WCh 2021| Dubai UAE| 2021.12.08| 10.0|       Carlsen,M|Nepomniachtchi,I|1/2-1/2|     2855|     2782|       null|       null|     draw|      null|            draw|     null|                    0|C42|2022-07-22 22:33:50| WorldChamp2021|\n",
            "|c512a953-a341-47c...|        11|WCh 2021| Dubai UAE| 2021.12.10| 11.0|Nepomniachtchi,I|       Carlsen,M|    0-1|     2782|     2855|       null|       null|Carlsen,M|      2855|Nepomniachtchi,I|     2782|                   73|C50|2022-07-22 22:33:50| WorldChamp2021|\n",
            "|99d39a93-427e-4d1...|         1|WCh 2018|London ENG| 2018.11.09|  1.0|Caruana, Fabiano| Carlsen, Magnus|1/2-1/2|     2832|     2835|         GM|         GM|     draw|      null|            draw|     null|                    0|B31|2022-07-22 22:33:50| WorldChamp2018|\n",
            "|c87ceb3e-67a7-45d...|         2|WCh 2018|London ENG| 2018.11.10|  2.0| Carlsen, Magnus|Caruana, Fabiano|1/2-1/2|     2835|     2832|         GM|         GM|     draw|      null|            draw|     null|                    0|D37|2022-07-22 22:33:50| WorldChamp2018|\n",
            "|d50510ea-9c1a-460...|         3|WCh 2018|London ENG| 2018.11.12|  3.0|Caruana, Fabiano| Carlsen, Magnus|1/2-1/2|     2832|     2835|         GM|         GM|     draw|      null|            draw|     null|                    0|B31|2022-07-22 22:33:50| WorldChamp2018|\n",
            "|e899e16a-281e-41b...|         4|WCh 2018|London ENG| 2018.11.13|  4.0| Carlsen, Magnus|Caruana, Fabiano|1/2-1/2|     2835|     2832|         GM|         GM|     draw|      null|            draw|     null|                    0|A29|2022-07-22 22:33:50| WorldChamp2018|\n",
            "|59f8da88-fd21-405...|         5|WCh 2018|London ENG| 2018.11.15|  5.0|Caruana, Fabiano| Carlsen, Magnus|1/2-1/2|     2832|     2835|         GM|         GM|     draw|      null|            draw|     null|                    0|B31|2022-07-22 22:33:50| WorldChamp2018|\n",
            "|6dcc4b46-3155-47e...|         6|WCh 2018|London ENG| 2018.11.16|  6.0| Carlsen, Magnus|Caruana, Fabiano|1/2-1/2|     2835|     2832|         GM|         GM|     draw|      null|            draw|     null|                    0|C42|2022-07-22 22:33:50| WorldChamp2018|\n",
            "|c0c727cf-03ec-4b4...|         7|WCh 2018|London ENG| 2018.11.18|  7.0| Carlsen, Magnus|Caruana, Fabiano|1/2-1/2|     2835|     2832|         GM|         GM|     draw|      null|            draw|     null|                    0|D37|2022-07-22 22:33:50| WorldChamp2018|\n",
            "|4c14e044-cacc-405...|         8|WCh 2018|London ENG| 2018.11.19|  8.0|Caruana, Fabiano| Carlsen, Magnus|1/2-1/2|     2832|     2835|         GM|         GM|     draw|      null|            draw|     null|                    0|B33|2022-07-22 22:33:50| WorldChamp2018|\n",
            "|3f4eb26e-3cd1-43b...|         9|WCh 2018|London ENG| 2018.11.21|  9.0| Carlsen, Magnus|Caruana, Fabiano|1/2-1/2|     2835|     2832|         GM|         GM|     draw|      null|            draw|     null|                    0|A29|2022-07-22 22:33:50| WorldChamp2018|\n",
            "+--------------------+----------+--------+----------+-----------+-----+----------------+----------------+-------+---------+---------+-----------+-----------+---------+----------+----------------+---------+---------------------+---+-------------------+---------------+\n",
            "only showing top 20 rows\n",
            "\n"
          ]
        }
      ]
    },
    {
      "cell_type": "code",
      "source": [
        "training.columns"
      ],
      "metadata": {
        "colab": {
          "base_uri": "https://localhost:8080/"
        },
        "id": "SK96hLD55rkL",
        "outputId": "1c4f4a23-a13d-4a26-eb3b-1c04682a2f86"
      },
      "execution_count": 21,
      "outputs": [
        {
          "output_type": "execute_result",
          "data": {
            "text/plain": [
              "['game_id',\n",
              " 'game_order',\n",
              " 'event',\n",
              " 'site',\n",
              " 'date_played',\n",
              " 'round',\n",
              " 'white',\n",
              " 'black',\n",
              " 'result',\n",
              " 'white_elo',\n",
              " 'black_elo',\n",
              " 'white_title',\n",
              " 'black_title',\n",
              " 'winner',\n",
              " 'winner_elo',\n",
              " 'loser',\n",
              " 'loser_elo',\n",
              " 'winner_loser_elo_diff',\n",
              " 'eco',\n",
              " 'date_created',\n",
              " 'tournament_name']"
            ]
          },
          "metadata": {},
          "execution_count": 21
        }
      ]
    },
    {
      "cell_type": "code",
      "source": [],
      "metadata": {
        "id": "cVHGP0fY5wyY"
      },
      "execution_count": 22,
      "outputs": []
    },
    {
      "cell_type": "code",
      "source": [
        "# def str_lables(a):\n",
        "#   if a==1:\n",
        "#     return 'white'\n",
        "#   elif a==0:\n",
        "#     return 'black'\n",
        "  "
      ],
      "metadata": {
        "id": "eFLyx4hY8mQ1"
      },
      "execution_count": 23,
      "outputs": []
    },
    {
      "cell_type": "code",
      "source": [
        "# from pyspark.ml.feature import VectorAssembler\n",
        "# featureassembler=VectorAssembler(inputCols=[\"white\",\"black\"],outputCol=\"player_name\")"
      ],
      "metadata": {
        "id": "nG3M635f9kAT"
      },
      "execution_count": 24,
      "outputs": []
    },
    {
      "cell_type": "code",
      "source": [
        "#output=featureassembler.transform(training)"
      ],
      "metadata": {
        "id": "loc9G9Q46RSr"
      },
      "execution_count": 26,
      "outputs": []
    },
    {
      "cell_type": "markdown",
      "source": [
        "**2. List of Players with number of times they have won Tournament in descending order**"
      ],
      "metadata": {
        "id": "yxIWK4nYsK9n"
      }
    },
    {
      "cell_type": "code",
      "source": [
        "from pyspark.ml.feature import StringIndexer"
      ],
      "metadata": {
        "id": "oGxjT1DH6jvJ"
      },
      "execution_count": 17,
      "outputs": []
    },
    {
      "cell_type": "code",
      "source": [
        "indexer = StringIndexer(inputCols=[\"white\",\"black\",\"winner\"],outputCols=[\"white_index\",\"black_index\",\"winner_index\"])\n",
        "df_r = indexer.fit(df_pyspark_game).transform(df_pyspark_game)\n",
        "df_r.show()"
      ],
      "metadata": {
        "colab": {
          "base_uri": "https://localhost:8080/"
        },
        "id": "FUe8JYWxs9yX",
        "outputId": "e1d58d2a-7871-4c8a-d43e-93fd06be1d61"
      },
      "execution_count": 19,
      "outputs": [
        {
          "output_type": "stream",
          "name": "stdout",
          "text": [
            "+--------------------+----------+--------+----------+-----------+-----+----------------+----------------+-------+---------+---------+-----------+-----------+---------+----------+----------------+---------+---------------------+---+-------------------+---------------+-----------+-----------+------------+\n",
            "|             game_id|game_order|   event|      site|date_played|round|           white|           black| result|white_elo|black_elo|white_title|black_title|   winner|winner_elo|           loser|loser_elo|winner_loser_elo_diff|eco|       date_created|tournament_name|white_index|black_index|winner_index|\n",
            "+--------------------+----------+--------+----------+-----------+-----+----------------+----------------+-------+---------+---------+-----------+-----------+---------+----------+----------------+---------+---------------------+---+-------------------+---------------+-----------+-----------+------------+\n",
            "|86e0b7f5-7b94-4ae...|         1|WCh 2021| Dubai UAE| 2021.11.26|  1.0|Nepomniachtchi,I|       Carlsen,M|1/2-1/2|     2782|     2855|       null|       null|     draw|      null|            draw|     null|                    0|C88|2022-07-22 22:33:50| WorldChamp2021|      133.0|       85.0|         0.0|\n",
            "|dc4a10ab-54cf-49d...|         2|WCh 2021| Dubai UAE| 2021.11.27|  2.0|       Carlsen,M|Nepomniachtchi,I|1/2-1/2|     2855|     2782|       null|       null|     draw|      null|            draw|     null|                    0|E06|2022-07-22 22:33:50| WorldChamp2021|      107.0|      159.0|         0.0|\n",
            "|f042ca37-8899-488...|         3|WCh 2021| Dubai UAE| 2021.11.28|  3.0|Nepomniachtchi,I|       Carlsen,M|1/2-1/2|     2782|     2855|       null|       null|     draw|      null|            draw|     null|                    0|C88|2022-07-22 22:33:50| WorldChamp2021|      133.0|       85.0|         0.0|\n",
            "|f70e4bbc-21e3-46f...|         4|WCh 2021| Dubai UAE| 2021.11.30|  4.0|       Carlsen,M|Nepomniachtchi,I|1/2-1/2|     2855|     2782|       null|       null|     draw|      null|            draw|     null|                    0|C42|2022-07-22 22:33:50| WorldChamp2021|      107.0|      159.0|         0.0|\n",
            "|c941c323-308a-4c8...|         5|WCh 2021| Dubai UAE| 2021.12.01|  5.0|Nepomniachtchi,I|       Carlsen,M|1/2-1/2|     2782|     2855|       null|       null|     draw|      null|            draw|     null|                    0|C88|2022-07-22 22:33:50| WorldChamp2021|      133.0|       85.0|         0.0|\n",
            "|58e83255-93bb-4d5...|         6|WCh 2021| Dubai UAE| 2021.12.03|  6.0|       Carlsen,M|Nepomniachtchi,I|    1-0|     2855|     2782|       null|       null|Carlsen,M|      2855|Nepomniachtchi,I|     2782|                   73|D02|2022-07-22 22:33:50| WorldChamp2021|      107.0|      159.0|        91.0|\n",
            "|29181d93-73f4-4fb...|         7|WCh 2021| Dubai UAE| 2021.12.04|  7.0|Nepomniachtchi,I|       Carlsen,M|1/2-1/2|     2782|     2855|       null|       null|     draw|      null|            draw|     null|                    0|C88|2022-07-22 22:33:50| WorldChamp2021|      133.0|       85.0|         0.0|\n",
            "|8a4ccd8c-d437-429...|         8|WCh 2021| Dubai UAE| 2021.12.05|  8.0|       Carlsen,M|Nepomniachtchi,I|    1-0|     2855|     2782|       null|       null|Carlsen,M|      2855|Nepomniachtchi,I|     2782|                   73|C43|2022-07-22 22:33:50| WorldChamp2021|      107.0|      159.0|        91.0|\n",
            "|55a122db-27d1-495...|         9|WCh 2021| Dubai UAE| 2021.12.07|  9.0|Nepomniachtchi,I|       Carlsen,M|    0-1|     2782|     2855|       null|       null|Carlsen,M|      2855|Nepomniachtchi,I|     2782|                   73|A13|2022-07-22 22:33:50| WorldChamp2021|      133.0|       85.0|        91.0|\n",
            "|1f900d18-5ea3-4f4...|        10|WCh 2021| Dubai UAE| 2021.12.08| 10.0|       Carlsen,M|Nepomniachtchi,I|1/2-1/2|     2855|     2782|       null|       null|     draw|      null|            draw|     null|                    0|C42|2022-07-22 22:33:50| WorldChamp2021|      107.0|      159.0|         0.0|\n",
            "|c512a953-a341-47c...|        11|WCh 2021| Dubai UAE| 2021.12.10| 11.0|Nepomniachtchi,I|       Carlsen,M|    0-1|     2782|     2855|       null|       null|Carlsen,M|      2855|Nepomniachtchi,I|     2782|                   73|C50|2022-07-22 22:33:50| WorldChamp2021|      133.0|       85.0|        91.0|\n",
            "|99d39a93-427e-4d1...|         1|WCh 2018|London ENG| 2018.11.09|  1.0|Caruana, Fabiano| Carlsen, Magnus|1/2-1/2|     2832|     2835|         GM|         GM|     draw|      null|            draw|     null|                    0|B31|2022-07-22 22:33:50| WorldChamp2018|      125.0|       24.0|         0.0|\n",
            "|c87ceb3e-67a7-45d...|         2|WCh 2018|London ENG| 2018.11.10|  2.0| Carlsen, Magnus|Caruana, Fabiano|1/2-1/2|     2835|     2832|         GM|         GM|     draw|      null|            draw|     null|                    0|D37|2022-07-22 22:33:50| WorldChamp2018|       22.0|      126.0|         0.0|\n",
            "|d50510ea-9c1a-460...|         3|WCh 2018|London ENG| 2018.11.12|  3.0|Caruana, Fabiano| Carlsen, Magnus|1/2-1/2|     2832|     2835|         GM|         GM|     draw|      null|            draw|     null|                    0|B31|2022-07-22 22:33:50| WorldChamp2018|      125.0|       24.0|         0.0|\n",
            "|e899e16a-281e-41b...|         4|WCh 2018|London ENG| 2018.11.13|  4.0| Carlsen, Magnus|Caruana, Fabiano|1/2-1/2|     2835|     2832|         GM|         GM|     draw|      null|            draw|     null|                    0|A29|2022-07-22 22:33:50| WorldChamp2018|       22.0|      126.0|         0.0|\n",
            "|59f8da88-fd21-405...|         5|WCh 2018|London ENG| 2018.11.15|  5.0|Caruana, Fabiano| Carlsen, Magnus|1/2-1/2|     2832|     2835|         GM|         GM|     draw|      null|            draw|     null|                    0|B31|2022-07-22 22:33:50| WorldChamp2018|      125.0|       24.0|         0.0|\n",
            "|6dcc4b46-3155-47e...|         6|WCh 2018|London ENG| 2018.11.16|  6.0| Carlsen, Magnus|Caruana, Fabiano|1/2-1/2|     2835|     2832|         GM|         GM|     draw|      null|            draw|     null|                    0|C42|2022-07-22 22:33:50| WorldChamp2018|       22.0|      126.0|         0.0|\n",
            "|c0c727cf-03ec-4b4...|         7|WCh 2018|London ENG| 2018.11.18|  7.0| Carlsen, Magnus|Caruana, Fabiano|1/2-1/2|     2835|     2832|         GM|         GM|     draw|      null|            draw|     null|                    0|D37|2022-07-22 22:33:50| WorldChamp2018|       22.0|      126.0|         0.0|\n",
            "|4c14e044-cacc-405...|         8|WCh 2018|London ENG| 2018.11.19|  8.0|Caruana, Fabiano| Carlsen, Magnus|1/2-1/2|     2832|     2835|         GM|         GM|     draw|      null|            draw|     null|                    0|B33|2022-07-22 22:33:50| WorldChamp2018|      125.0|       24.0|         0.0|\n",
            "|3f4eb26e-3cd1-43b...|         9|WCh 2018|London ENG| 2018.11.21|  9.0| Carlsen, Magnus|Caruana, Fabiano|1/2-1/2|     2835|     2832|         GM|         GM|     draw|      null|            draw|     null|                    0|A29|2022-07-22 22:33:50| WorldChamp2018|       22.0|      126.0|         0.0|\n",
            "+--------------------+----------+--------+----------+-----------+-----+----------------+----------------+-------+---------+---------+-----------+-----------+---------+----------+----------------+---------+---------------------+---+-------------------+---------------+-----------+-----------+------------+\n",
            "only showing top 20 rows\n",
            "\n"
          ]
        }
      ]
    },
    {
      "cell_type": "code",
      "source": [
        "from pyspark.ml.feature import VectorAssembler\n",
        "coef_var = [\"white_index\",\"black_index\"]\n",
        "featureassembler=VectorAssembler(inputCols=coef_var,outputCol=\"player_name\")\n",
        "output = featureassembler.transform(df_r)\n",
        "output.select('player_name').show()"
      ],
      "metadata": {
        "colab": {
          "base_uri": "https://localhost:8080/"
        },
        "id": "KYQyGkGGtOq4",
        "outputId": "3161ce55-ce7d-4d02-b372-9a8b4497da24"
      },
      "execution_count": 22,
      "outputs": [
        {
          "output_type": "stream",
          "name": "stdout",
          "text": [
            "+-------------+\n",
            "|  player_name|\n",
            "+-------------+\n",
            "| [133.0,85.0]|\n",
            "|[107.0,159.0]|\n",
            "| [133.0,85.0]|\n",
            "|[107.0,159.0]|\n",
            "| [133.0,85.0]|\n",
            "|[107.0,159.0]|\n",
            "| [133.0,85.0]|\n",
            "|[107.0,159.0]|\n",
            "| [133.0,85.0]|\n",
            "|[107.0,159.0]|\n",
            "| [133.0,85.0]|\n",
            "| [125.0,24.0]|\n",
            "| [22.0,126.0]|\n",
            "| [125.0,24.0]|\n",
            "| [22.0,126.0]|\n",
            "| [125.0,24.0]|\n",
            "| [22.0,126.0]|\n",
            "| [22.0,126.0]|\n",
            "| [125.0,24.0]|\n",
            "| [22.0,126.0]|\n",
            "+-------------+\n",
            "only showing top 20 rows\n",
            "\n"
          ]
        }
      ]
    },
    {
      "cell_type": "code",
      "source": [
        "var2 = df_pyspark_game.filter((df_pyspark_game.winner != 'draw')& (~df_pyspark_game.event.contains('KO')) & (~df_pyspark_game.event.contains('k.o')))\n",
        "\n"
      ],
      "metadata": {
        "id": "vr2-Ag0Lr42x"
      },
      "execution_count": 33,
      "outputs": []
    },
    {
      "cell_type": "code",
      "source": [
        "var2 = var2.groupBy(\"tournament_name\", \"winner\").count()\n"
      ],
      "metadata": {
        "id": "oYwvinDZu-fm"
      },
      "execution_count": 34,
      "outputs": []
    },
    {
      "cell_type": "code",
      "source": [
        "win2 = Window.partitionBy('tournament_name').orderBy(F.col('count').desc())\n"
      ],
      "metadata": {
        "id": "jKHEHewLu-RA"
      },
      "execution_count": 35,
      "outputs": []
    },
    {
      "cell_type": "code",
      "source": [
        "var2 = var2.withColumn('row', F.row_number().over(win2)).where(F.col('row') == 1)\n"
      ],
      "metadata": {
        "id": "CHlv6LAju-E1"
      },
      "execution_count": 36,
      "outputs": []
    },
    {
      "cell_type": "code",
      "source": [
        "var2 = var2.drop(*[\"count\",\"row\",\"tournament_name\"])\n"
      ],
      "metadata": {
        "id": "SMGoWZsvvIxe"
      },
      "execution_count": 37,
      "outputs": []
    },
    {
      "cell_type": "code",
      "source": [
        "var2 = var2.groupBy(\"winner\").count().orderBy(F.col('count').desc())\n"
      ],
      "metadata": {
        "id": "M4DqsuTZvIuG"
      },
      "execution_count": 38,
      "outputs": []
    },
    {
      "cell_type": "code",
      "source": [
        "var2 = var2.withColumnRenamed(\"winner\", \"player_name\")\n",
        "var2 = var2.withColumnRenamed(\"count\", \"number_of_wins\")"
      ],
      "metadata": {
        "id": "WsjPQzmhu91a"
      },
      "execution_count": 39,
      "outputs": []
    },
    {
      "cell_type": "code",
      "source": [
        "var2.show()"
      ],
      "metadata": {
        "colab": {
          "base_uri": "https://localhost:8080/"
        },
        "id": "ENy-oAV8sitC",
        "outputId": "2ca0f55a-4741-4aa6-b549-9b0463c6a74c"
      },
      "execution_count": 13,
      "outputs": [
        {
          "output_type": "stream",
          "name": "stdout",
          "text": [
            "+--------------------+--------------+\n",
            "|         player_name|number_of_wins|\n",
            "+--------------------+--------------+\n",
            "|     Lasker, Emanuel|             6|\n",
            "|      Kasparov, Gary|             6|\n",
            "|     Karpov, Anatoly|             5|\n",
            "|  Botvinnik, Mikhail|             5|\n",
            "|   Steinitz, William|             4|\n",
            "| Alekhine, Alexander|             4|\n",
            "|           Kramnik,V|             3|\n",
            "|     Carlsen, Magnus|             3|\n",
            "|             Anand,V|             3|\n",
            "| Petrosian, Tigran V|             2|\n",
            "|           Carlsen,M|             1|\n",
            "|    Smyslov, Vassily|             1|\n",
            "|           Topalov,V|             1|\n",
            "|    Schlechter, Carl|             1|\n",
            "|           Euwe, Max|             1|\n",
            "|    Spassky, Boris V|             1|\n",
            "|Fischer, Robert J...|             1|\n",
            "|         Tal, Mihail|             1|\n",
            "|Capablanca, Jose ...|             1|\n",
            "|           Gelfand,B|             1|\n",
            "+--------------------+--------------+\n",
            "\n"
          ]
        }
      ]
    },
    {
      "cell_type": "code",
      "source": [
        "final_result = output.select(\"player_name\",\"winner_index\")"
      ],
      "metadata": {
        "id": "et5N-dV6UcWj"
      },
      "execution_count": 23,
      "outputs": []
    },
    {
      "cell_type": "code",
      "source": [
        "# from pyspark.ml.regression import LinearRegression\n",
        "# train_data,test_data = final_result.randomSplit([0.75,0.25])\n",
        "# regressor = LinearRegression(featuresCol='player_name', labelCol='winner_index')\n",
        "# model = regressor.fit(train_data)"
      ],
      "metadata": {
        "id": "wB51tHAjVTQu"
      },
      "execution_count": 36,
      "outputs": []
    },
    {
      "cell_type": "code",
      "source": [
        "#pd.DataFrame({\"coefficients\":model.coefficients}, index=coef_var)"
      ],
      "metadata": {
        "id": "KkpjDqZAW8vZ"
      },
      "execution_count": 24,
      "outputs": []
    },
    {
      "cell_type": "code",
      "source": [
        "# res = model.evaluate(test_data)\n",
        "# res"
      ],
      "metadata": {
        "colab": {
          "base_uri": "https://localhost:8080/"
        },
        "id": "gHBwIur8XNgt",
        "outputId": "e1753de4-5f16-4a38-c77d-50a2cfbd22bc"
      },
      "execution_count": 24,
      "outputs": [
        {
          "output_type": "execute_result",
          "data": {
            "text/plain": [
              "<pyspark.ml.regression.LinearRegressionSummary at 0x7f0122a014d0>"
            ]
          },
          "metadata": {},
          "execution_count": 24
        }
      ]
    },
    {
      "cell_type": "code",
      "source": [
        "# unlabled = test_data.select('player_name','winner_index')"
      ],
      "metadata": {
        "id": "I6qtcuzVYVTK"
      },
      "execution_count": 30,
      "outputs": []
    },
    {
      "cell_type": "code",
      "source": [
        "# pred = model.transform(unlabled)"
      ],
      "metadata": {
        "id": "v1lgJ5X-qz5W"
      },
      "execution_count": 31,
      "outputs": []
    },
    {
      "cell_type": "markdown",
      "source": [
        "# **3. Most and Least Popular eco move in world championship history**"
      ],
      "metadata": {
        "id": "ttArX5lIGJy9"
      }
    },
    {
      "cell_type": "code",
      "source": [
        "from pyspark.sql.functions import greatest"
      ],
      "metadata": {
        "id": "Uo36zSqaC1F4"
      },
      "execution_count": 51,
      "outputs": []
    },
    {
      "cell_type": "code",
      "source": [
        "df_pyspark_eco.show()"
      ],
      "metadata": {
        "colab": {
          "base_uri": "https://localhost:8080/"
        },
        "id": "ONwHz8IMGEHx",
        "outputId": "ed61ab2b-960a-4901-baf2-992b9a8420a3"
      },
      "execution_count": 55,
      "outputs": [
        {
          "output_type": "stream",
          "name": "stdout",
          "text": [
            "+---+--------------------+--------------------+--------+---------+\n",
            "|eco|            eco_name|         eco_example|eco_type|eco_group|\n",
            "+---+--------------------+--------------------+--------+---------+\n",
            "|A00|    Uncommon Opening|  1 g4, a3, h3, etc.|       A|    Flank|\n",
            "|A01|Nimzovich-Larsen ...|                1 b3|       A|    Flank|\n",
            "|A02|      Bird's Opening|                1 f4|       A|    Flank|\n",
            "|A03|      Bird's Opening|             1 f4 d5|       A|    Flank|\n",
            "|A04|        Reti Opening|               1 Nf3|       A|    Flank|\n",
            "|A05|        Reti Opening|           1 Nf3 Nf6|       A|    Flank|\n",
            "|A06|        Reti Opening|            1 Nf3 d5|       A|    Flank|\n",
            "|A07|King's Indian Attack|       1 Nf3 d5 2 g3|       A|    Flank|\n",
            "|A08|King's Indian Attack|1 Nf3 d5 2 g3 c5 ...|       A|    Flank|\n",
            "|A09|        Reti Opening|       1 Nf3 d5 2 c4|       A|    Flank|\n",
            "|A10|             English|                1 c4|       A|    Flank|\n",
            "|A11|English, Caro-Kan...|             1 c4 c6|       A|    Flank|\n",
            "|A12|     English with b3|1 c4 c6 2 Nf3 d5 ...|       A|    Flank|\n",
            "|A13|             English|             1 c4 e6|       A|    Flank|\n",
            "|A14|             English|1 c4 e6 2 Nf3 d5 ...|       A|    Flank|\n",
            "|A15|             English|            1 c4 Nf6|       A|    Flank|\n",
            "|A16|             English|      1 c4 Nf6 2 Nc3|       A|    Flank|\n",
            "|A17|             English|   1 c4 Nf6 2 Nc3 e6|       A|    Flank|\n",
            "|A18|English, Mikenas-...|1 c4 Nf6 2 Nc3 e6...|       A|    Flank|\n",
            "|A19|English, Mikenas-...|1 c4 Nf6 2 Nc3 e6...|       A|    Flank|\n",
            "+---+--------------------+--------------------+--------+---------+\n",
            "only showing top 20 rows\n",
            "\n"
          ]
        }
      ]
    },
    {
      "cell_type": "code",
      "source": [
        "var3 = df_pyspark_game.filter(df_pyspark_game.tournament_name.contains('WorldChamp'))\n",
        "\n"
      ],
      "metadata": {
        "id": "aE9zziyfEUGN"
      },
      "execution_count": 26,
      "outputs": []
    },
    {
      "cell_type": "code",
      "source": [
        "var3 = var3.groupBy(\"eco\").count().orderBy(F.col('count').desc())"
      ],
      "metadata": {
        "id": "hG1yE0fjF088"
      },
      "execution_count": 27,
      "outputs": []
    },
    {
      "cell_type": "code",
      "source": [
        "var3 = var3.head(1) + var3.tail(1)\n"
      ],
      "metadata": {
        "id": "ndli6u-kuuiJ"
      },
      "execution_count": 28,
      "outputs": []
    },
    {
      "cell_type": "code",
      "source": [
        "var3 = spark.createDataFrame(var3)\n"
      ],
      "metadata": {
        "id": "q16pRcoauxT9"
      },
      "execution_count": 29,
      "outputs": []
    },
    {
      "cell_type": "code",
      "source": [
        "var3 = var3.join(df_pyspark_eco, on='eco', how=\"inner\")\n"
      ],
      "metadata": {
        "id": "eo2r0rntu0Mf"
      },
      "execution_count": 30,
      "outputs": []
    },
    {
      "cell_type": "code",
      "source": [
        "var3 = var3.withColumnRenamed(\"count\", \"number_of_occurences\")\n",
        "var3 = var3.select(\"eco\", \"eco_name\", \"number_of_occurences\").orderBy(F.col(\"number_of_occurences\"))\n"
      ],
      "metadata": {
        "id": "jwEthTDlu3es"
      },
      "execution_count": 31,
      "outputs": []
    },
    {
      "cell_type": "code",
      "source": [
        "var3.show()"
      ],
      "metadata": {
        "colab": {
          "base_uri": "https://localhost:8080/"
        },
        "id": "JhSRsFUTu5wS",
        "outputId": "88083162-583c-48c3-eda0-147954d617e7"
      },
      "execution_count": 32,
      "outputs": [
        {
          "output_type": "stream",
          "name": "stdout",
          "text": [
            "+---+------------------+--------------------+\n",
            "|eco|          eco_name|number_of_occurences|\n",
            "+---+------------------+--------------------+\n",
            "|A44|Old Benoni Defense|                   1|\n",
            "|C42|    Petrov Defense|                  21|\n",
            "+---+------------------+--------------------+\n",
            "\n"
          ]
        }
      ]
    },
    {
      "cell_type": "markdown",
      "source": [
        "# **4. Find the eco move with most winnings.**"
      ],
      "metadata": {
        "id": "PHDfSsHivYKX"
      }
    },
    {
      "cell_type": "code",
      "source": [],
      "metadata": {
        "id": "TEBSlyEMwDdr"
      },
      "execution_count": null,
      "outputs": []
    },
    {
      "cell_type": "code",
      "source": [
        "var4 = df_pyspark_game.filter(df_pyspark_game.winner != \"draw\")\n"
      ],
      "metadata": {
        "id": "ih47Un5Bu6oF"
      },
      "execution_count": 40,
      "outputs": []
    },
    {
      "cell_type": "code",
      "source": [
        "var4 = var4.groupby(\"eco\").count()\n"
      ],
      "metadata": {
        "id": "-YokjLiTwByt"
      },
      "execution_count": 41,
      "outputs": []
    },
    {
      "cell_type": "code",
      "source": [
        "var4 = var4.orderBy(F.col(\"count\").desc())\n"
      ],
      "metadata": {
        "id": "a9XdN8JlwFp_"
      },
      "execution_count": 42,
      "outputs": []
    },
    {
      "cell_type": "code",
      "source": [
        "var4 = var4.head(1)\n"
      ],
      "metadata": {
        "id": "5o0VvbFXwHZj"
      },
      "execution_count": 43,
      "outputs": []
    },
    {
      "cell_type": "code",
      "source": [
        "var4 = spark.createDataFrame(var4)\n"
      ],
      "metadata": {
        "id": "mnx8HJi8wJT2"
      },
      "execution_count": 44,
      "outputs": []
    },
    {
      "cell_type": "code",
      "source": [
        "var4 = var4.join(df_pyspark_eco, on=\"eco\", how=\"inner\").select(\"eco\", \"eco_name\")\n"
      ],
      "metadata": {
        "id": "epZO0lVNwL8S"
      },
      "execution_count": 45,
      "outputs": []
    },
    {
      "cell_type": "code",
      "source": [
        "var4.show()"
      ],
      "metadata": {
        "colab": {
          "base_uri": "https://localhost:8080/"
        },
        "id": "uxxkTvhXwNqS",
        "outputId": "b3775939-da8e-4b91-a57e-8d7bc1b93353"
      },
      "execution_count": 46,
      "outputs": [
        {
          "output_type": "stream",
          "name": "stdout",
          "text": [
            "+---+-----------------+\n",
            "|eco|         eco_name|\n",
            "+---+-----------------+\n",
            "|B90|Sicilian, Najdorf|\n",
            "+---+-----------------+\n",
            "\n"
          ]
        }
      ]
    },
    {
      "cell_type": "markdown",
      "source": [
        "# **5. Longest and shortest game ever played in a world championship in terms of move.**"
      ],
      "metadata": {
        "id": "yvjvkC1KwjCG"
      }
    },
    {
      "cell_type": "code",
      "source": [
        "win5 = Window.partitionBy(\"game_id\").orderBy(F.col('move_no_pair').desc())\n"
      ],
      "metadata": {
        "id": "FQd2uaKMwOaq"
      },
      "execution_count": 49,
      "outputs": []
    },
    {
      "cell_type": "code",
      "source": [
        "var5 = df_pyspark_moves.withColumn('row', F.row_number().over(win5)).select(\"game_id\", \"move_no_pair\")\n"
      ],
      "metadata": {
        "id": "Tz94YklGxOdD"
      },
      "execution_count": 50,
      "outputs": []
    },
    {
      "cell_type": "code",
      "source": [
        "var5 = var5.filter(F.col(\"row\")==1)\n"
      ],
      "metadata": {
        "id": "NqmlN3m5xclp"
      },
      "execution_count": 51,
      "outputs": []
    },
    {
      "cell_type": "code",
      "source": [
        "var5 = var5.join(df_pyspark_game, on='game_id', how='inner').select(\"game_id\",\"event\",\"tournament_name\",\"move_no_pair\").orderBy(F.col('move_no_pair').desc())\n"
      ],
      "metadata": {
        "id": "i6y8RgMrxfSB"
      },
      "execution_count": 52,
      "outputs": []
    },
    {
      "cell_type": "code",
      "source": [
        "var5 = var5.filter((df_pyspark_game.tournament_name.contains('WorldChamp')))\n"
      ],
      "metadata": {
        "id": "xCUUxRWcxhku"
      },
      "execution_count": 53,
      "outputs": []
    },
    {
      "cell_type": "code",
      "source": [
        "var5 = var5.withColumnRenamed(\"move_no_pair\", \"number_of_moves\")\n"
      ],
      "metadata": {
        "id": "_hbn0eRWxj9q"
      },
      "execution_count": 54,
      "outputs": []
    },
    {
      "cell_type": "code",
      "source": [
        "var5 = var5.head(1) + var5.tail(1)\n",
        "var5 = spark.createDataFrame(var5)\n"
      ],
      "metadata": {
        "id": "_0WhEKqCxmjN"
      },
      "execution_count": 55,
      "outputs": []
    },
    {
      "cell_type": "code",
      "source": [
        "var5.show()"
      ],
      "metadata": {
        "colab": {
          "base_uri": "https://localhost:8080/"
        },
        "id": "ZGmQkMQnxo-U",
        "outputId": "38870644-03fa-49f7-a687-a9f862fbc829"
      },
      "execution_count": 56,
      "outputs": [
        {
          "output_type": "stream",
          "name": "stdout",
          "text": [
            "+--------------------+--------------------+---------------+---------------+\n",
            "|             game_id|               event|tournament_name|number_of_moves|\n",
            "+--------------------+--------------------+---------------+---------------+\n",
            "|58e83255-93bb-4d5...|            WCh 2021| WorldChamp2021|            136|\n",
            "|1846cede-0037-4f0...|World Championshi...| WorldChamp1972|              1|\n",
            "+--------------------+--------------------+---------------+---------------+\n",
            "\n"
          ]
        }
      ]
    },
    {
      "cell_type": "markdown",
      "source": [
        "# **6. Shortest and Longest Draw game ever Played.**"
      ],
      "metadata": {
        "id": "rGTek2waxuv8"
      }
    },
    {
      "cell_type": "code",
      "source": [
        "win6 = Window.partitionBy(\"game_id\").orderBy(F.col('move_no_pair').desc())\n"
      ],
      "metadata": {
        "id": "KUZf3da3xxlT"
      },
      "execution_count": 62,
      "outputs": []
    },
    {
      "cell_type": "code",
      "source": [
        "var6 = df_pyspark_moves.withColumn('row', F.row_number().over(win6)).select(\"game_id\", \"move_no_pair\")\n"
      ],
      "metadata": {
        "id": "kwkWnGsyx4nu"
      },
      "execution_count": 63,
      "outputs": []
    },
    {
      "cell_type": "code",
      "source": [
        "var6 = var6.filter(F.col(\"row\")==1)\n"
      ],
      "metadata": {
        "id": "m-L3vqKIyGNK"
      },
      "execution_count": 64,
      "outputs": []
    },
    {
      "cell_type": "code",
      "source": [
        "var6 = var6.join(df_pyspark_game, on='game_id', how='inner').select(\"game_id\",\"event\",\"tournament_name\",\"move_no_pair\").orderBy(F.col('move_no_pair').desc())\n"
      ],
      "metadata": {
        "id": "yua02poDyeQj"
      },
      "execution_count": 65,
      "outputs": []
    },
    {
      "cell_type": "code",
      "source": [
        "var6 = var6.filter((df_pyspark_game.winner.contains('draw')))\n",
        "var6 = var6.withColumnRenamed(\"move_no_pair\", \"number_of_moves\")\n"
      ],
      "metadata": {
        "id": "M6vyQE7cy3pX"
      },
      "execution_count": 66,
      "outputs": []
    },
    {
      "cell_type": "code",
      "source": [
        "var6 = var6.head(1) + var6.tail(1)\n",
        "var6 = spark.createDataFrame(var6)\n",
        "var6.show()"
      ],
      "metadata": {
        "colab": {
          "base_uri": "https://localhost:8080/"
        },
        "id": "7vEIVtMfy58N",
        "outputId": "4f9739b1-0d32-4423-bb7e-5a044b82ce08"
      },
      "execution_count": 67,
      "outputs": [
        {
          "output_type": "stream",
          "name": "stdout",
          "text": [
            "+--------------------+-------------+---------------+---------------+\n",
            "|             game_id|        event|tournament_name|number_of_moves|\n",
            "+--------------------+-------------+---------------+---------------+\n",
            "|88f34084-e4df-490...|  FIDE WCh KO|  FideChamp2002|            129|\n",
            "|a27c2b95-fb62-4b6...|FIDE-Wch k.o.|  FideChamp1998|              6|\n",
            "+--------------------+-------------+---------------+---------------+\n",
            "\n"
          ]
        }
      ]
    },
    {
      "cell_type": "markdown",
      "source": [
        "# **7. Most and Least rated Player.**"
      ],
      "metadata": {
        "id": "jt-bcTpmy_mp"
      }
    },
    {
      "cell_type": "code",
      "source": [
        "A7white = df_pyspark_game.filter(df_pyspark_game.white_elo.isNotNull())\n",
        "A7white = A7white.groupBy(\"white\").max(\"white_elo\")\n",
        "A7white = A7white.withColumnRenamed(\"white\",\"player_name\")\n"
      ],
      "metadata": {
        "id": "8fUlq29Qy7q-"
      },
      "execution_count": 68,
      "outputs": []
    },
    {
      "cell_type": "code",
      "source": [
        "A7black = df_pyspark_game.filter(df_pyspark_game.white_elo.isNotNull())\n",
        "A7black = A7black.groupBy(\"black\").max(\"black_elo\")\n",
        "A7black = A7black.withColumnRenamed(\"black\",\"player_name\")"
      ],
      "metadata": {
        "id": "5gsUEGlMzP_W"
      },
      "execution_count": 69,
      "outputs": []
    },
    {
      "cell_type": "code",
      "source": [
        "var7 = A7white.join(A7black, on='player_name', how='inner')\n"
      ],
      "metadata": {
        "id": "QiXyW6oWzcUO"
      },
      "execution_count": 70,
      "outputs": []
    },
    {
      "cell_type": "code",
      "source": [
        "var7 = var7.withColumn(\"elo\",(F.col(\"max(white_elo)\")+F.col(\"max(black_elo)\"))/2)\n"
      ],
      "metadata": {
        "id": "aAR6Qft5zwad"
      },
      "execution_count": 71,
      "outputs": []
    },
    {
      "cell_type": "code",
      "source": [
        "var7 = var7.drop( *[\"max(white_elo)\", \"max(black_elo)\"])\n",
        "var7 = var7.orderBy( F.col(\"elo\").desc())\n"
      ],
      "metadata": {
        "id": "Gk80W6C1zyzv"
      },
      "execution_count": 72,
      "outputs": []
    },
    {
      "cell_type": "code",
      "source": [
        "var7 = var7.head(1) + var7.tail(1)\n",
        "var7 = spark.createDataFrame(var7)\n",
        "var7.show()"
      ],
      "metadata": {
        "colab": {
          "base_uri": "https://localhost:8080/"
        },
        "id": "6wLjlt-1z1CA",
        "outputId": "c9116b49-0dc7-4405-d556-5be633b2a522"
      },
      "execution_count": 73,
      "outputs": [
        {
          "output_type": "stream",
          "name": "stdout",
          "text": [
            "+---------------+------+\n",
            "|    player_name|   elo|\n",
            "+---------------+------+\n",
            "|Carlsen, Magnus|2870.0|\n",
            "|      Abulhul,T|2076.0|\n",
            "+---------------+------+\n",
            "\n"
          ]
        }
      ]
    },
    {
      "cell_type": "markdown",
      "source": [
        "# **8. 3rd Last Player with most Loss.**"
      ],
      "metadata": {
        "id": "kwYOkxOq0E6Q"
      }
    },
    {
      "cell_type": "code",
      "source": [
        "var8 = df_pyspark_game.filter(~df_pyspark_game['winner'].isin(['draw']))\n"
      ],
      "metadata": {
        "id": "kJEG26rQz2G4"
      },
      "execution_count": 74,
      "outputs": []
    },
    {
      "cell_type": "code",
      "source": [
        "var8 = var8.groupBy(\"loser\").count()\n"
      ],
      "metadata": {
        "id": "vchumr0K0smk"
      },
      "execution_count": 75,
      "outputs": []
    },
    {
      "cell_type": "code",
      "source": [
        "var8 = var8.withColumnRenamed(\"loser\",\"player_name\")\n",
        "var8 = var8.orderBy(F.col(\"count\").desc())\n"
      ],
      "metadata": {
        "id": "dcUNsQTz0uZ-"
      },
      "execution_count": 76,
      "outputs": []
    },
    {
      "cell_type": "code",
      "source": [
        "win8 = Window.orderBy(F.col(\"count\").desc())\n"
      ],
      "metadata": {
        "id": "ouB62vwH0xU3"
      },
      "execution_count": 77,
      "outputs": []
    },
    {
      "cell_type": "code",
      "source": [
        "var8 = var8.withColumn(\"index\", F.row_number().over(win8))\n"
      ],
      "metadata": {
        "id": "MEG5z0EF0y-7"
      },
      "execution_count": 78,
      "outputs": []
    },
    {
      "cell_type": "code",
      "source": [
        "var8 = var8.filter((var8['index']==3))\n",
        "var8 = var8.drop(*[\"count\",\"index\"])\n"
      ],
      "metadata": {
        "id": "5pX1ngsM01Sp"
      },
      "execution_count": 79,
      "outputs": []
    },
    {
      "cell_type": "code",
      "source": [
        "var8.show()"
      ],
      "metadata": {
        "colab": {
          "base_uri": "https://localhost:8080/"
        },
        "id": "H1xmwy-T0288",
        "outputId": "3e4506d7-454c-4361-9020-198d1462937a"
      },
      "execution_count": 80,
      "outputs": [
        {
          "output_type": "stream",
          "name": "stdout",
          "text": [
            "+---------------+\n",
            "|    player_name|\n",
            "+---------------+\n",
            "|Karpov, Anatoly|\n",
            "+---------------+\n",
            "\n"
          ]
        }
      ]
    },
    {
      "cell_type": "markdown",
      "source": [
        "# **9. How many times players with low rating won matches with their total win Count**"
      ],
      "metadata": {
        "id": "O3ndlm-j07ah"
      }
    },
    {
      "cell_type": "code",
      "source": [
        "var9 = df_pyspark_game.filter(df_pyspark_game[\"winner_loser_elo_diff\"]<0)\n"
      ],
      "metadata": {
        "id": "rG-5RXgA03yr"
      },
      "execution_count": 81,
      "outputs": []
    },
    {
      "cell_type": "code",
      "source": [
        "var9 = var9.groupBy(\"winner\").count().orderBy(F.col('count').desc())\n"
      ],
      "metadata": {
        "id": "xi4pRpkT1G4h"
      },
      "execution_count": 82,
      "outputs": []
    },
    {
      "cell_type": "code",
      "source": [
        "var9 = var9.withColumnRenamed(\"winner\",\"player_name\")\n",
        "var9 = var9.withColumnRenamed(\"count\",\"win_count\")\n"
      ],
      "metadata": {
        "id": "IwhTMPSy1QDV"
      },
      "execution_count": 83,
      "outputs": []
    },
    {
      "cell_type": "code",
      "source": [
        "var9.show()"
      ],
      "metadata": {
        "colab": {
          "base_uri": "https://localhost:8080/"
        },
        "id": "I6GiNRyA1RdC",
        "outputId": "0cc3f894-83f0-412e-b086-8a27e45fde8a"
      },
      "execution_count": 84,
      "outputs": [
        {
          "output_type": "stream",
          "name": "stdout",
          "text": [
            "+--------------------+---------+\n",
            "|         player_name|win_count|\n",
            "+--------------------+---------+\n",
            "|     Karpov, Anatoly|       20|\n",
            "|      Kasimdzhanov,R|       11|\n",
            "|           Macieja,B|        9|\n",
            "|  Kortschnoj, Viktor|        8|\n",
            "|           Kramnik,V|        8|\n",
            "|          Grischuk,A|        7|\n",
            "|        Ponomariov,R|        7|\n",
            "|Khalifman, Alexander|        6|\n",
            "|      Short, Nigel D|        5|\n",
            "|   Akopian, Vladimir|        5|\n",
            "|      Kasparov, Gary|        5|\n",
            "|           Sulskis,S|        5|\n",
            "|         Dominguez,L|        5|\n",
            "|           Ehlvest,J|        5|\n",
            "|Nisipeanu, Liviu ...|        4|\n",
            "| Tkachiev, Vladislav|        4|\n",
            "|          Nakamura,H|        4|\n",
            "|           Gelfand,B|        4|\n",
            "|         Filippov,Va|        4|\n",
            "|              Ni Hua|        4|\n",
            "+--------------------+---------+\n",
            "only showing top 20 rows\n",
            "\n"
          ]
        }
      ]
    },
    {
      "cell_type": "markdown",
      "source": [
        "# **10. Move Sequence for Each Player in a Match**"
      ],
      "metadata": {
        "id": "d3ZajaSM8u5F"
      }
    },
    {
      "cell_type": "code",
      "source": [
        "win10 = Window.partitionBy(\"game_id\").orderBy(F.col(\"move_no\").desc())\n"
      ],
      "metadata": {
        "id": "-8RYltMn87nB"
      },
      "execution_count": 15,
      "outputs": []
    },
    {
      "cell_type": "code",
      "source": [
        "var10 = df_pyspark_moves.withColumn(\"row\",F.row_number().over(win10))\n"
      ],
      "metadata": {
        "id": "F8OkGKMZ9dne"
      },
      "execution_count": 16,
      "outputs": []
    },
    {
      "cell_type": "code",
      "source": [
        "var10 = var10.filter(var10.row<3)\n"
      ],
      "metadata": {
        "id": "JMEUIxfW9m6_"
      },
      "execution_count": 17,
      "outputs": []
    },
    {
      "cell_type": "code",
      "source": [
        "var10 = var10.select(\"game_id\", \"player\", \"move_sequence\", \"move_no\")\n",
        "var10 = var10.withColumnRenamed(\"move_no\", \"move_count\")\n",
        "var10 = var10.withColumnRenamed(\"player\", \"player_name\")\n"
      ],
      "metadata": {
        "id": "P_Ns2-5b9pSz"
      },
      "execution_count": 18,
      "outputs": []
    },
    {
      "cell_type": "code",
      "source": [
        "var10.show()"
      ],
      "metadata": {
        "colab": {
          "base_uri": "https://localhost:8080/"
        },
        "id": "iT40I_Rr9sOa",
        "outputId": "d3244fd6-a1c0-4ee0-ffbb-77e194b35aa3"
      },
      "execution_count": 19,
      "outputs": [
        {
          "output_type": "stream",
          "name": "stdout",
          "text": [
            "+--------------------+--------------------+--------------------+----------+\n",
            "|             game_id|         player_name|       move_sequence|move_count|\n",
            "+--------------------+--------------------+--------------------+----------+\n",
            "|00563036-1aa1-42c...|Azmaiparashvili, ...|e4|c5|c3|Nf6|e5|N...|        89|\n",
            "|00563036-1aa1-42c...|   Krasenkow, Michal|e4|c5|c3|Nf6|e5|N...|        88|\n",
            "|007ba523-8617-42b...|Fischer, Robert J...|e4|Nf6|e5|Nd5|d4|...|       148|\n",
            "|007ba523-8617-42b...|    Spassky, Boris V|e4|Nf6|e5|Nd5|d4|...|       147|\n",
            "|00c5cb30-540b-47b...|    Slobodjan, Roman|d4|d5|c4|e6|Nf3|c...|        58|\n",
            "|00c5cb30-540b-47b...|Azmaiparashvili, ...|d4|d5|c4|e6|Nf3|c...|        57|\n",
            "|00ff8f8a-33d1-466...| Tkachiev, Vladislav|d4|Nf6|Nf3|e6|c4|...|        49|\n",
            "|00ff8f8a-33d1-466...|  Hoffman, Alejandro|d4|Nf6|Nf3|e6|c4|...|        48|\n",
            "|0128c0c8-d901-4c8...|      Kasparov, Gary|c4|c5|Nf3|Nf6|Nc3...|       114|\n",
            "|0128c0c8-d901-4c8...|     Karpov, Anatoly|c4|c5|Nf3|Nf6|Nc3...|       113|\n",
            "|01af512b-f6cd-471...|    Bogoljubow, Efim|d4|Nf6|c4|e6|Nc3|...|        95|\n",
            "|01af512b-f6cd-471...| Alekhine, Alexander|d4|Nf6|c4|e6|Nc3|...|        94|\n",
            "|01be7b78-84e0-4f2...|              Leko,P|e4|c6|d4|d5|Nc3|d...|       113|\n",
            "|01be7b78-84e0-4f2...|        Anastasian,A|e4|c6|d4|d5|Nc3|d...|       112|\n",
            "|01d7c507-bc7e-463...|        Morozevich,A|e4|c5|Nf3|e6|d4|c...|       106|\n",
            "|01d7c507-bc7e-463...|      Kasimdzhanov,R|e4|c5|Nf3|e6|d4|c...|       105|\n",
            "|01db283e-d9c7-4f1...|           Gelfand,B|d4|d5|c4|c6|Nf3|N...|        80|\n",
            "|01db283e-d9c7-4f1...|           Kramnik,V|d4|d5|c4|c6|Nf3|N...|        79|\n",
            "|0217a4a4-d586-444...|      Short, Nigel D|e4|c6|d4|d5|e5|Bf...|       131|\n",
            "|0217a4a4-d586-444...|      Adams, Michael|e4|c6|d4|d5|e5|Bf...|       130|\n",
            "+--------------------+--------------------+--------------------+----------+\n",
            "only showing top 20 rows\n",
            "\n"
          ]
        }
      ]
    },
    {
      "cell_type": "markdown",
      "source": [
        "# 11. Total Number of games where losing player has more Captured score than Winning **player**"
      ],
      "metadata": {
        "id": "UwjnF4OD9v3p"
      }
    },
    {
      "cell_type": "code",
      "source": [
        "var11 = df_pyspark_game.where(~df_pyspark_game['winner'].isin(['draw']))\n",
        "var11 = var11.join(df_pyspark_moves, on=\"game_id\", how=\"inner\")\n",
        "win11 = Window.partitionBy(\"game_id\").orderBy(F.col(\"move_no\").desc())"
      ],
      "metadata": {
        "id": "ZMAvlSkY9tSG"
      },
      "execution_count": 20,
      "outputs": []
    },
    {
      "cell_type": "code",
      "source": [
        "var11 = var11.withColumn(\"row\", F.row_number().over(win11))\n",
        "var11 = var11.filter(var11.row == 1).drop(\"row\")"
      ],
      "metadata": {
        "id": "RE65XGL1-ItE"
      },
      "execution_count": 21,
      "outputs": []
    },
    {
      "cell_type": "code",
      "source": [
        "var11 = var11.withColumn(\"loser_white\",(var11['loser']==var11['white']))\n",
        "var11 = var11.withColumn(\"loser_score\",F.when(F.col(\"loser_white\"),F.col(\"captured_score_for_white\")).otherwise(( F.col('captured_score_for_black'))))\n"
      ],
      "metadata": {
        "id": "dMqCrQcs-kgw"
      },
      "execution_count": 22,
      "outputs": []
    },
    {
      "cell_type": "code",
      "source": [
        "var11 = var11.withColumn(\"winner_white\",(var11['winner']==var11['white']))\n",
        "var11 = var11.withColumn(\"winner_score\",F.when(F.col(\"winner_white\"),F.col(\"captured_score_for_white\")).otherwise(( F.col('captured_score_for_black'))))"
      ],
      "metadata": {
        "id": "gMMfdfAn-5Uq"
      },
      "execution_count": 23,
      "outputs": []
    },
    {
      "cell_type": "code",
      "source": [
        "var11 = var11.withColumn(\"Loser_with_higher_core\",var11[\"loser_score\"]>var11[\"winner_score\"])\n",
        "var11 = var11.filter(var11[\"Loser_with_higher_core\"]==True) "
      ],
      "metadata": {
        "id": "MmEWq862_Qi9"
      },
      "execution_count": 24,
      "outputs": []
    },
    {
      "cell_type": "code",
      "source": [
        "finalwinA11 = Window.partitionBy().orderBy(F.col('game_id'))"
      ],
      "metadata": {
        "id": "NobKrxXv_cmi"
      },
      "execution_count": 25,
      "outputs": []
    },
    {
      "cell_type": "code",
      "source": [
        "var11 = var11.withColumn( \"total_number_of_games\", F.row_number().over(finalwinA11) )\n",
        "var11 = var11.where( var11.total_number_of_games == var11.count() )\n",
        "var11 = var11.select(\"total_number_of_games\")"
      ],
      "metadata": {
        "id": "BAyBIOpP_g__"
      },
      "execution_count": 26,
      "outputs": []
    },
    {
      "cell_type": "code",
      "source": [
        "var11.show()"
      ],
      "metadata": {
        "colab": {
          "base_uri": "https://localhost:8080/"
        },
        "id": "4DN-lwr6_syM",
        "outputId": "5c78f82a-4621-4b47-d95e-798af060f668"
      },
      "execution_count": 27,
      "outputs": [
        {
          "output_type": "stream",
          "name": "stdout",
          "text": [
            "+---------------------+\n",
            "|total_number_of_games|\n",
            "+---------------------+\n",
            "|                  147|\n",
            "+---------------------+\n",
            "\n"
          ]
        }
      ]
    },
    {
      "cell_type": "markdown",
      "source": [
        "# **12. List All Perfect Tournament with Winner Name**"
      ],
      "metadata": {
        "id": "fRUMynuL_zTT"
      }
    },
    {
      "cell_type": "code",
      "source": [
        "var12 = df_pyspark_game.filter((~df_pyspark_game.winner.isin(['draw'])) & (~df_pyspark_game.event.contains('KO')) & (~df_pyspark_game.event.contains('k.o')))"
      ],
      "metadata": {
        "id": "sU8-4DnX_vnz"
      },
      "execution_count": 46,
      "outputs": []
    },
    {
      "cell_type": "code",
      "source": [
        "wvar12 = Window.partitionBy(\"tournament_name\")"
      ],
      "metadata": {
        "id": "yYqlVNrSAGnf"
      },
      "execution_count": 47,
      "outputs": []
    },
    {
      "cell_type": "code",
      "source": [
        "var12 = var12.withColumn( \"winner_all_tournament\", F.size( F.collect_set('winner').over(wvar12) ) == 1 )\n"
      ],
      "metadata": {
        "id": "MmXkr4VTA9lg"
      },
      "execution_count": 49,
      "outputs": []
    },
    {
      "cell_type": "code",
      "source": [
        "var12 = var12.where( F.col(\"winner_all_tournament\") )\n",
        "var12 = var12.groupBy(\"tournament_name\", \"winner\").count().orderBy(\"tournament_name\")\n",
        "var12= var12.withColumnRenamed(\"winner\", \"winner_name\")\n",
        "var12 = var12.select(\"winner_name\", \"tournament_name\")\n",
        "var12.show()"
      ],
      "metadata": {
        "colab": {
          "base_uri": "https://localhost:8080/"
        },
        "id": "QBI9ZIWrApK-",
        "outputId": "64297d5c-c6d1-4a8e-de32-697da6dc6309"
      },
      "execution_count": 50,
      "outputs": [
        {
          "output_type": "stream",
          "name": "stdout",
          "text": [
            "+--------------------+---------------+\n",
            "|         winner_name|tournament_name|\n",
            "+--------------------+---------------+\n",
            "|     Lasker, Emanuel| WorldChamp1907|\n",
            "|     Lasker, Emanuel|WorldChamp1910b|\n",
            "|Capablanca, Jose ...| WorldChamp1921|\n",
            "|           Kramnik,V| WorldChamp2000|\n",
            "|     Carlsen, Magnus| WorldChamp2013|\n",
            "|           Carlsen,M| WorldChamp2021|\n",
            "+--------------------+---------------+\n",
            "\n"
          ]
        }
      ]
    },
    {
      "cell_type": "markdown",
      "source": [
        "# **13. Player with highest winning ratio**"
      ],
      "metadata": {
        "id": "wlEEUjwjDKY5"
      }
    },
    {
      "cell_type": "code",
      "source": [
        "var13_data = df_pyspark_game.filter(~df_pyspark_game.winner.isin(['draw']))\n",
        "var13played = var13_data.select( F.explode( F.array(\"white\", \"black\" ) ).alias(\"player\"))\n",
        "var13played = var13played.groupBy(\"player\").agg(F.count(\"player\").alias(\"Games_played\"))\n"
      ],
      "metadata": {
        "id": "BKCGMlkqBV0g"
      },
      "execution_count": 51,
      "outputs": []
    },
    {
      "cell_type": "code",
      "source": [
        "var13won = var13_data.groupBy(\"winner\").agg(F.count(\"winner\").alias(\"Games_won\"))\n",
        "var13won = var13won.withColumnRenamed(\"winner\",\"player\")"
      ],
      "metadata": {
        "id": "dxjOUejFDizc"
      },
      "execution_count": 52,
      "outputs": []
    },
    {
      "cell_type": "code",
      "source": [
        "var13ratio = var13played.join(var13won,on= \"player\", how=\"inner\")\n",
        "var13ratio = var13ratio.withColumn(\"Win_ratio\",F.col(\"Games_won\")/F.col(\"Games_played\"))\n",
        "var13ratio = var13ratio.orderBy(F.col(\"Win_ratio\").desc())\n"
      ],
      "metadata": {
        "id": "rcL0qKOpDryv"
      },
      "execution_count": 53,
      "outputs": []
    },
    {
      "cell_type": "code",
      "source": [
        "var13 = var13ratio.head(1)\n",
        "var13 = spark.createDataFrame(var13)\n",
        "var13 = var13.select(\"player\")\n",
        "var13 = var13.withColumnRenamed(\"player\", \"player_name\")"
      ],
      "metadata": {
        "id": "YKg-v9J-EJwQ"
      },
      "execution_count": 54,
      "outputs": []
    },
    {
      "cell_type": "code",
      "source": [
        "var13.show()"
      ],
      "metadata": {
        "colab": {
          "base_uri": "https://localhost:8080/"
        },
        "id": "VvC33NXLEXJb",
        "outputId": "198ce701-3d99-4e8f-cd52-42307987c067"
      },
      "execution_count": 55,
      "outputs": [
        {
          "output_type": "stream",
          "name": "stdout",
          "text": [
            "+--------------------+\n",
            "|         player_name|\n",
            "+--------------------+\n",
            "|Stepovaia Dianche...|\n",
            "+--------------------+\n",
            "\n"
          ]
        }
      ]
    },
    {
      "cell_type": "markdown",
      "source": [
        "# **14. Player who had given checkmate with Pawn**"
      ],
      "metadata": {
        "id": "ZTql8USAF1hO"
      }
    },
    {
      "cell_type": "code",
      "source": [
        "var14 = df_pyspark_moves.filter((df_pyspark_moves.is_check_mate == 1) & df_pyspark_moves.piece.contains('P'))\n",
        "\n"
      ],
      "metadata": {
        "id": "YLfG3_FwEbaG"
      },
      "execution_count": 58,
      "outputs": []
    },
    {
      "cell_type": "code",
      "source": [
        "var14 = var14.select('player')\n",
        "var14 = var14.withColumnRenamed(\"player\", \"player_name\")\n"
      ],
      "metadata": {
        "id": "3IlMVYiqGOD9"
      },
      "execution_count": 59,
      "outputs": []
    },
    {
      "cell_type": "code",
      "source": [
        "var14.show()"
      ],
      "metadata": {
        "colab": {
          "base_uri": "https://localhost:8080/"
        },
        "id": "lBzElclxGVdJ",
        "outputId": "968b8610-58e9-4f32-f989-ba34b750ff21"
      },
      "execution_count": 60,
      "outputs": [
        {
          "output_type": "stream",
          "name": "stdout",
          "text": [
            "+--------------+\n",
            "|   player_name|\n",
            "+--------------+\n",
            "|Andersson, Ulf|\n",
            "+--------------+\n",
            "\n"
          ]
        }
      ]
    },
    {
      "cell_type": "markdown",
      "source": [
        "# **15. List games where player has won game without queen**"
      ],
      "metadata": {
        "id": "e0mMb6dpGhAf"
      }
    },
    {
      "cell_type": "code",
      "source": [
        "var15 = df_pyspark_moves.filter(((df_pyspark_moves['white_queen_count']==0)|(df_pyspark_moves[\"black_queen_count\"]==0)))\n"
      ],
      "metadata": {
        "id": "Zj-k1A9NGdec"
      },
      "execution_count": 61,
      "outputs": []
    },
    {
      "cell_type": "code",
      "source": [
        "var15 = var15.join(df_pyspark_game, on='game_id', how=\"inner\")\n",
        "var15 = var15.filter(df_pyspark_game.winner != 'draw')\n"
      ],
      "metadata": {
        "id": "ah8J9nDuHKDK"
      },
      "execution_count": 62,
      "outputs": []
    },
    {
      "cell_type": "code",
      "source": [
        "var15 = var15.groupBy(\"game_id\",\"event\",\"winner\").count().orderBy(\"game_id\")\n",
        "win15 = Window.partitionBy(\"game_id\").orderBy(F.col(\"count\").desc())\n"
      ],
      "metadata": {
        "id": "x0Jfxc_WHMs8"
      },
      "execution_count": 63,
      "outputs": []
    },
    {
      "cell_type": "code",
      "source": [
        "var15 = var15.withColumn('row', F.row_number().over(win15)).where(F.col(\"row\")==1)\n",
        "var15 = var15.select(\"game_id\",\"event\",\"winner\").distinct()\n"
      ],
      "metadata": {
        "id": "C0kKiBsxHPx-"
      },
      "execution_count": 64,
      "outputs": []
    },
    {
      "cell_type": "code",
      "source": [
        "var15 = var15.drop(*[\"count\",\"row\"])\n",
        "var15 = var15.withColumnRenamed(\"winner\",\"player_name\")\n",
        "var15.show()"
      ],
      "metadata": {
        "colab": {
          "base_uri": "https://localhost:8080/"
        },
        "id": "NyDBD92oHSZR",
        "outputId": "735e6cab-0396-4ed7-9965-17c47399257a"
      },
      "execution_count": 67,
      "outputs": [
        {
          "output_type": "stream",
          "name": "stdout",
          "text": [
            "+--------------------+--------------------+--------------------+\n",
            "|             game_id|               event|         player_name|\n",
            "+--------------------+--------------------+--------------------+\n",
            "|007ba523-8617-42b...|World Championshi...|Fischer, Robert J...|\n",
            "|00bdc5cb-22b3-4fc...|FIDE-Wch k.o. g/2...|       Polgar, Judit|\n",
            "|01102870-dbe8-4fd...|         FIDE WCh KO|         Kotronias,V|\n",
            "|0128c0c8-d901-4c8...|World Championshi...|     Karpov, Anatoly|\n",
            "|01af512b-f6cd-471...|World Championshi...|    Bogoljubow, Efim|\n",
            "|0230130d-ee51-4f9...|       FIDE-Wch k.o.|     Barua, Dibyendu|\n",
            "|02797e38-3fa8-46f...|FIDE-Wch k.o. g/2...|       Dreev, Alexey|\n",
            "|02d27637-16cd-4d9...|World Championshi...|           Euwe, Max|\n",
            "|02ddab74-4fff-47b...|       FIDE-Wch k.o.|        Milov, Vadim|\n",
            "|03098c35-6489-4b4...|FIDE-Wch k.o. g/2...|   Kramnik, Vladimir|\n",
            "|03ad168a-2860-4e8...|         FIDE WCh KO|            Shirov,A|\n",
            "|042f3677-18cb-48d...|       FIDE-Wch k.o.|    Seirawan, Yasser|\n",
            "|04565968-1b5a-4af...|         FIDE WCh KO|           Topalov,V|\n",
            "|046d5cef-2a47-46c...|World Championshi...|   Steinitz, William|\n",
            "|047cc450-adc2-404...|World Championshi...|   Steinitz, William|\n",
            "|04c81fe4-efd8-456...|         FIDE WCh KO|          Nakamura,H|\n",
            "|05091949-6f68-480...|       FIDE-Wch k.o.|        Milov, Vadim|\n",
            "|05bf7419-cae3-4d3...|         FIDE WCh KO|         Khalifman,A|\n",
            "|05cd42a6-2886-49b...|            FIDE-Wch|        Kamsky, Gata|\n",
            "|0606fcdc-2867-4c2...|         FIDE WCh KO|         Beliavsky,A|\n",
            "+--------------------+--------------------+--------------------+\n",
            "only showing top 20 rows\n",
            "\n"
          ]
        }
      ]
    },
    {
      "cell_type": "code",
      "source": [],
      "metadata": {
        "id": "9LxViZe5HUgY"
      },
      "execution_count": null,
      "outputs": []
    }
  ]
}